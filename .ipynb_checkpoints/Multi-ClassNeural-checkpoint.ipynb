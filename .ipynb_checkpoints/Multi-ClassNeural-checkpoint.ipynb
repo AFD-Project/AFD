{
 "cells": [
  {
   "cell_type": "code",
   "execution_count": 22,
   "metadata": {},
   "outputs": [],
   "source": [
    "import numpy\n",
    "import pandas\n",
    "from keras.models import Sequential\n",
    "from keras.layers import Dense\n",
    "from keras.wrappers.scikit_learn import KerasClassifier\n",
    "from keras.utils import np_utils\n",
    "from sklearn.model_selection import cross_val_score\n",
    "from sklearn.model_selection import KFold\n",
    "from sklearn.preprocessing import LabelEncoder\n",
    "from sklearn.pipeline import Pipeline\n",
    "from sklearn.preprocessing import StandardScaler\n",
    "from sklearn.model_selection import train_test_split\n",
    "\n"
   ]
  },
  {
   "cell_type": "code",
   "execution_count": 23,
   "metadata": {},
   "outputs": [],
   "source": [
    "seed = 7\n",
    "numpy.random.seed(seed)"
   ]
  },
  {
   "cell_type": "code",
   "execution_count": 48,
   "metadata": {},
   "outputs": [
    {
     "name": "stdout",
     "output_type": "stream",
     "text": [
      "<class 'pandas.core.frame.DataFrame'>\n"
     ]
    }
   ],
   "source": [
    "# load dataset\n",
    "dataframe = pandas.read_csv(\"DONNES/train_cap2018.csv\")\n",
    "dataset = dataframe.values\n",
    "\n",
    "X = dataframe.iloc[:,1:59]\n",
    "Y = dataframe.iloc[:,59]\n",
    "\n",
    "X, X_test, Y, y_test = train_test_split(X, Y, test_size=0.4, random_state=0)\n",
    "\n",
    "\n",
    "where_are_NaNs = numpy.isnan(X) #Remplace les valeurs NaN par des 0\n",
    "X[where_are_NaNs] = 0\n",
    "\n",
    "where_are_NaNs = numpy.isnan(X_test) #Remplace les valeurs NaN par des 0\n",
    "X_test[where_are_NaNs] = 0\n",
    "\n",
    "#print(X)\n",
    "\n",
    "#Normalisation \n",
    "\n",
    "scaler = StandardScaler()\n",
    "scaler.fit(X)\n",
    "StandardScaler(copy=True, with_mean=True, with_std=True)\n",
    "\n",
    "# Now apply the transformations to the data:\n",
    "X = scaler.transform(X)\n",
    "X_test = scaler.transform(X_test)\n",
    "\n",
    "#print(X)\n",
    "#print(Y)"
   ]
  },
  {
   "cell_type": "code",
   "execution_count": 25,
   "metadata": {},
   "outputs": [],
   "source": [
    "# encode class values as integers\n",
    "encoder = LabelEncoder()\n",
    "encoder.fit(Y)\n",
    "encoded_Y = encoder.transform(Y)\n",
    "\n",
    "# convert integers to dummy variables (i.e. one hot encoded)\n",
    "dummy_y = np_utils.to_categorical(encoded_Y)\n",
    "\n",
    "#print(encoded_Y)\n",
    "#list(encoder.inverse_transform(encoded_Y)) la démarche inverse"
   ]
  },
  {
   "cell_type": "code",
   "execution_count": 26,
   "metadata": {},
   "outputs": [],
   "source": [
    "def baseline_model():\n",
    "\t# create model\n",
    "\tmodel = Sequential()\n",
    "\tmodel.add(Dense(100, input_dim=58, kernel_initializer='normal', activation='relu'))\n",
    "\tmodel.add(Dense(500, activation='relu'))\n",
    "\tmodel.add(Dense(6, activation='softmax'))\n",
    "\t# Compile model\n",
    "\tmodel.compile(loss='categorical_crossentropy', optimizer='adam', metrics=['accuracy'])\n",
    "\treturn model"
   ]
  },
  {
   "cell_type": "code",
   "execution_count": 27,
   "metadata": {
    "scrolled": true
   },
   "outputs": [
    {
     "name": "stdout",
     "output_type": "stream",
     "text": [
      "Epoch 1/100\n",
      "20482/20482 [==============================] - 1s 44us/step - loss: 0.7027 - acc: 0.7288\n",
      "Epoch 2/100\n",
      "20482/20482 [==============================] - 1s 34us/step - loss: 0.5860 - acc: 0.7744\n",
      "Epoch 3/100\n",
      "20482/20482 [==============================] - 1s 35us/step - loss: 0.5449 - acc: 0.7923\n",
      "Epoch 4/100\n",
      "20482/20482 [==============================] - 1s 36us/step - loss: 0.5202 - acc: 0.8028\n",
      "Epoch 5/100\n",
      "20482/20482 [==============================] - 1s 36us/step - loss: 0.5000 - acc: 0.8103\n",
      "Epoch 6/100\n",
      "20482/20482 [==============================] - 1s 35us/step - loss: 0.4915 - acc: 0.8119\n",
      "Epoch 7/100\n",
      "20482/20482 [==============================] - 1s 34us/step - loss: 0.4753 - acc: 0.8194\n",
      "Epoch 8/100\n",
      "20482/20482 [==============================] - 1s 34us/step - loss: 0.4664 - acc: 0.8193\n",
      "Epoch 9/100\n",
      "20482/20482 [==============================] - 1s 33us/step - loss: 0.4549 - acc: 0.8267\n",
      "Epoch 10/100\n",
      "20482/20482 [==============================] - 1s 34us/step - loss: 0.4445 - acc: 0.8284\n",
      "Epoch 11/100\n",
      "20482/20482 [==============================] - 1s 33us/step - loss: 0.4356 - acc: 0.8320\n",
      "Epoch 12/100\n",
      "20482/20482 [==============================] - 1s 33us/step - loss: 0.4289 - acc: 0.8367\n",
      "Epoch 13/100\n",
      "20482/20482 [==============================] - 1s 33us/step - loss: 0.4178 - acc: 0.8390\n",
      "Epoch 14/100\n",
      "20482/20482 [==============================] - 1s 32us/step - loss: 0.4113 - acc: 0.8426\n",
      "Epoch 15/100\n",
      "20482/20482 [==============================] - 1s 33us/step - loss: 0.4037 - acc: 0.8438\n",
      "Epoch 16/100\n",
      "20482/20482 [==============================] - 1s 34us/step - loss: 0.3989 - acc: 0.8449\n",
      "Epoch 17/100\n",
      "20482/20482 [==============================] - 1s 33us/step - loss: 0.3889 - acc: 0.8500\n",
      "Epoch 18/100\n",
      "20482/20482 [==============================] - 1s 32us/step - loss: 0.3841 - acc: 0.8510\n",
      "Epoch 19/100\n",
      "20482/20482 [==============================] - 1s 33us/step - loss: 0.3752 - acc: 0.8573\n",
      "Epoch 20/100\n",
      "20482/20482 [==============================] - 1s 34us/step - loss: 0.3643 - acc: 0.8601\n",
      "Epoch 21/100\n",
      "20482/20482 [==============================] - 1s 33us/step - loss: 0.3593 - acc: 0.8616\n",
      "Epoch 22/100\n",
      "20482/20482 [==============================] - 1s 37us/step - loss: 0.3493 - acc: 0.8628\n",
      "Epoch 23/100\n",
      "20482/20482 [==============================] - 1s 38us/step - loss: 0.3433 - acc: 0.8675\n",
      "Epoch 24/100\n",
      "20482/20482 [==============================] - 1s 33us/step - loss: 0.3355 - acc: 0.8686\n",
      "Epoch 25/100\n",
      "20482/20482 [==============================] - 1s 32us/step - loss: 0.3264 - acc: 0.8736\n",
      "Epoch 26/100\n",
      "20482/20482 [==============================] - 1s 31us/step - loss: 0.3246 - acc: 0.8749\n",
      "Epoch 27/100\n",
      "20482/20482 [==============================] - 1s 32us/step - loss: 0.3113 - acc: 0.8803\n",
      "Epoch 28/100\n",
      "20482/20482 [==============================] - 1s 32us/step - loss: 0.3037 - acc: 0.8829\n",
      "Epoch 29/100\n",
      "20482/20482 [==============================] - 1s 33us/step - loss: 0.2982 - acc: 0.8857\n",
      "Epoch 30/100\n",
      "20482/20482 [==============================] - 1s 31us/step - loss: 0.2904 - acc: 0.8888\n",
      "Epoch 31/100\n",
      "20482/20482 [==============================] - 1s 31us/step - loss: 0.2794 - acc: 0.8924\n",
      "Epoch 32/100\n",
      "20482/20482 [==============================] - 1s 31us/step - loss: 0.2722 - acc: 0.8960\n",
      "Epoch 33/100\n",
      "20482/20482 [==============================] - 1s 32us/step - loss: 0.2671 - acc: 0.8979\n",
      "Epoch 34/100\n",
      "20482/20482 [==============================] - 1s 32us/step - loss: 0.2566 - acc: 0.9024\n",
      "Epoch 35/100\n",
      "20482/20482 [==============================] - 1s 32us/step - loss: 0.2531 - acc: 0.9009\n",
      "Epoch 36/100\n",
      "20482/20482 [==============================] - 1s 31us/step - loss: 0.2412 - acc: 0.9073\n",
      "Epoch 37/100\n",
      "20482/20482 [==============================] - 1s 45us/step - loss: 0.2382 - acc: 0.9084\n",
      "Epoch 38/100\n",
      "20482/20482 [==============================] - 1s 44us/step - loss: 0.2273 - acc: 0.9129\n",
      "Epoch 39/100\n",
      "20482/20482 [==============================] - 1s 43us/step - loss: 0.2222 - acc: 0.9167\n",
      "Epoch 40/100\n",
      "20482/20482 [==============================] - 1s 54us/step - loss: 0.2146 - acc: 0.9171\n",
      "Epoch 41/100\n",
      "20482/20482 [==============================] - 1s 50us/step - loss: 0.2031 - acc: 0.9213\n",
      "Epoch 42/100\n",
      "20482/20482 [==============================] - 1s 37us/step - loss: 0.2040 - acc: 0.9217\n",
      "Epoch 43/100\n",
      "20482/20482 [==============================] - 1s 32us/step - loss: 0.1913 - acc: 0.9272\n",
      "Epoch 44/100\n",
      "20482/20482 [==============================] - 1s 31us/step - loss: 0.1855 - acc: 0.9294\n",
      "Epoch 45/100\n",
      "20482/20482 [==============================] - 1s 38us/step - loss: 0.1785 - acc: 0.9320\n",
      "Epoch 46/100\n",
      "20482/20482 [==============================] - 1s 32us/step - loss: 0.1734 - acc: 0.9342\n",
      "Epoch 47/100\n",
      "20482/20482 [==============================] - 1s 32us/step - loss: 0.1753 - acc: 0.9326\n",
      "Epoch 48/100\n",
      "20482/20482 [==============================] - 1s 33us/step - loss: 0.1609 - acc: 0.9378\n",
      "Epoch 49/100\n",
      "20482/20482 [==============================] - 1s 32us/step - loss: 0.1550 - acc: 0.9412\n",
      "Epoch 50/100\n",
      "20482/20482 [==============================] - 1s 34us/step - loss: 0.1496 - acc: 0.9435\n",
      "Epoch 51/100\n",
      "20482/20482 [==============================] - 1s 34us/step - loss: 0.1390 - acc: 0.9482\n",
      "Epoch 52/100\n",
      "20482/20482 [==============================] - 1s 36us/step - loss: 0.1356 - acc: 0.9489\n",
      "Epoch 53/100\n",
      "20482/20482 [==============================] - 1s 35us/step - loss: 0.1397 - acc: 0.9476\n",
      "Epoch 54/100\n",
      "20482/20482 [==============================] - 1s 34us/step - loss: 0.1307 - acc: 0.9517\n",
      "Epoch 55/100\n",
      "20482/20482 [==============================] - 1s 35us/step - loss: 0.1247 - acc: 0.9533\n",
      "Epoch 56/100\n",
      "20482/20482 [==============================] - 1s 33us/step - loss: 0.1216 - acc: 0.9556\n",
      "Epoch 57/100\n",
      "20482/20482 [==============================] - 1s 32us/step - loss: 0.1070 - acc: 0.9601\n",
      "Epoch 58/100\n",
      "20482/20482 [==============================] - 1s 33us/step - loss: 0.1123 - acc: 0.9589\n",
      "Epoch 59/100\n",
      "20482/20482 [==============================] - 1s 34us/step - loss: 0.1042 - acc: 0.9636\n",
      "Epoch 60/100\n",
      "20482/20482 [==============================] - 1s 32us/step - loss: 0.1111 - acc: 0.9593\n",
      "Epoch 61/100\n",
      "20482/20482 [==============================] - 1s 32us/step - loss: 0.1064 - acc: 0.9628\n",
      "Epoch 62/100\n",
      "20482/20482 [==============================] - 1s 34us/step - loss: 0.0918 - acc: 0.9664\n",
      "Epoch 63/100\n",
      "20482/20482 [==============================] - 1s 33us/step - loss: 0.1008 - acc: 0.9632\n",
      "Epoch 64/100\n",
      "20482/20482 [==============================] - 1s 31us/step - loss: 0.0939 - acc: 0.9672\n",
      "Epoch 65/100\n",
      "20482/20482 [==============================] - 1s 32us/step - loss: 0.0783 - acc: 0.9722\n",
      "Epoch 66/100\n",
      "20482/20482 [==============================] - 1s 32us/step - loss: 0.0875 - acc: 0.9683\n",
      "Epoch 67/100\n",
      "20482/20482 [==============================] - 1s 33us/step - loss: 0.0955 - acc: 0.9674\n",
      "Epoch 68/100\n",
      "20482/20482 [==============================] - 1s 32us/step - loss: 0.0715 - acc: 0.9753\n",
      "Epoch 69/100\n",
      "20482/20482 [==============================] - 1s 32us/step - loss: 0.0672 - acc: 0.9772\n",
      "Epoch 70/100\n",
      "20482/20482 [==============================] - 1s 32us/step - loss: 0.0789 - acc: 0.9736\n",
      "Epoch 71/100\n",
      "20482/20482 [==============================] - 1s 32us/step - loss: 0.0761 - acc: 0.9725\n",
      "Epoch 72/100\n",
      "20482/20482 [==============================] - 1s 31us/step - loss: 0.0672 - acc: 0.9781\n",
      "Epoch 73/100\n",
      "20482/20482 [==============================] - 1s 32us/step - loss: 0.0953 - acc: 0.9661\n",
      "Epoch 74/100\n",
      "20482/20482 [==============================] - 1s 32us/step - loss: 0.0630 - acc: 0.9778\n",
      "Epoch 75/100\n",
      "20482/20482 [==============================] - 1s 32us/step - loss: 0.0639 - acc: 0.9786\n",
      "Epoch 76/100\n",
      "20482/20482 [==============================] - 1s 31us/step - loss: 0.0588 - acc: 0.9804\n",
      "Epoch 77/100\n",
      "20482/20482 [==============================] - 1s 33us/step - loss: 0.0558 - acc: 0.9817\n",
      "Epoch 78/100\n",
      "20482/20482 [==============================] - 1s 34us/step - loss: 0.0666 - acc: 0.9769\n",
      "Epoch 79/100\n",
      "20482/20482 [==============================] - 1s 33us/step - loss: 0.0636 - acc: 0.9776\n",
      "Epoch 80/100\n",
      "20482/20482 [==============================] - 1s 32us/step - loss: 0.0587 - acc: 0.9793\n",
      "Epoch 81/100\n",
      "20482/20482 [==============================] - 1s 34us/step - loss: 0.0634 - acc: 0.9779\n",
      "Epoch 82/100\n",
      "20482/20482 [==============================] - 1s 33us/step - loss: 0.0598 - acc: 0.9796\n",
      "Epoch 83/100\n",
      "20482/20482 [==============================] - 1s 35us/step - loss: 0.0662 - acc: 0.9788\n",
      "Epoch 84/100\n",
      "20482/20482 [==============================] - 1s 32us/step - loss: 0.0355 - acc: 0.9900\n",
      "Epoch 85/100\n",
      "20482/20482 [==============================] - 1s 32us/step - loss: 0.0396 - acc: 0.9880\n",
      "Epoch 86/100\n",
      "20482/20482 [==============================] - 1s 32us/step - loss: 0.0802 - acc: 0.9725\n",
      "Epoch 87/100\n",
      "20482/20482 [==============================] - 1s 33us/step - loss: 0.0522 - acc: 0.9828\n",
      "Epoch 88/100\n",
      "20482/20482 [==============================] - 1s 32us/step - loss: 0.0697 - acc: 0.9772\n",
      "Epoch 89/100\n",
      "20482/20482 [==============================] - 1s 32us/step - loss: 0.0378 - acc: 0.9883\n",
      "Epoch 90/100\n",
      "20482/20482 [==============================] - 1s 32us/step - loss: 0.0459 - acc: 0.9861\n",
      "Epoch 91/100\n",
      "20482/20482 [==============================] - 1s 34us/step - loss: 0.0683 - acc: 0.9762\n",
      "Epoch 92/100\n",
      "20482/20482 [==============================] - 1s 32us/step - loss: 0.0547 - acc: 0.9814\n",
      "Epoch 93/100\n",
      "20482/20482 [==============================] - 1s 32us/step - loss: 0.0604 - acc: 0.9813\n",
      "Epoch 94/100\n",
      "20482/20482 [==============================] - 1s 33us/step - loss: 0.0345 - acc: 0.9895\n",
      "Epoch 95/100\n",
      "20482/20482 [==============================] - 1s 36us/step - loss: 0.0540 - acc: 0.9831\n",
      "Epoch 96/100\n",
      "20482/20482 [==============================] - 1s 33us/step - loss: 0.0543 - acc: 0.9809\n",
      "Epoch 97/100\n",
      "20482/20482 [==============================] - 1s 33us/step - loss: 0.0496 - acc: 0.9831\n",
      "Epoch 98/100\n",
      "20482/20482 [==============================] - 1s 34us/step - loss: 0.0434 - acc: 0.9858\n",
      "Epoch 99/100\n",
      "20482/20482 [==============================] - 1s 31us/step - loss: 0.0396 - acc: 0.9870\n",
      "Epoch 100/100\n",
      "20482/20482 [==============================] - 1s 32us/step - loss: 0.0603 - acc: 0.9794\n"
     ]
    },
    {
     "data": {
      "text/plain": [
       "<keras.callbacks.History at 0x1875882b048>"
      ]
     },
     "execution_count": 27,
     "metadata": {},
     "output_type": "execute_result"
    }
   ],
   "source": [
    "model = baseline_model()\n",
    "model.fit(X, dummy_y, epochs=100, batch_size=32) #Attention aux paramètres, certains changement provoquent l'overfitting !"
   ]
  },
  {
   "cell_type": "code",
   "execution_count": 30,
   "metadata": {},
   "outputs": [
    {
     "name": "stdout",
     "output_type": "stream",
     "text": [
      "20482/20482 [==============================] - 0s 16us/step\n",
      "\n",
      "loss: 5.00%\n",
      "\n",
      "acc: 98.34%\n"
     ]
    }
   ],
   "source": [
    "# evaluate the model\n",
    "scores = model.evaluate(X, dummy_y)\n",
    "print(\"\\n%s: %.2f%%\" % (model.metrics_names[0], scores[0]*100))\n",
    "print(\"\\n%s: %.2f%%\" % (model.metrics_names[1], scores[1]*100))\n"
   ]
  },
  {
   "cell_type": "code",
   "execution_count": 31,
   "metadata": {},
   "outputs": [],
   "source": [
    "def counter(attr) :\n",
    "    unique, counts = numpy.unique(attr, return_counts=True)\n",
    "    return dict(zip(unique, counts))"
   ]
  },
  {
   "cell_type": "code",
   "execution_count": 32,
   "metadata": {},
   "outputs": [
    {
     "name": "stdout",
     "output_type": "stream",
     "text": [
      "['A2' 'B1' 'A1' ... 'A1' 'A2' 'B2']\n"
     ]
    },
    {
     "name": "stderr",
     "output_type": "stream",
     "text": [
      "C:\\Users\\Noctis\\Anaconda3\\lib\\site-packages\\sklearn\\preprocessing\\label.py:151: DeprecationWarning: The truth value of an empty array is ambiguous. Returning False, but in future this will result in an error. Use `array.size > 0` to check that an array is not empty.\n",
      "  if diff:\n"
     ]
    }
   ],
   "source": [
    "#predictions = model.predict(X)\n",
    "predictions = model.predict_classes(X_test)\n",
    "classes = encoder.inverse_transform(predictions)\n",
    "\n",
    "print(classes)\n"
   ]
  },
  {
   "cell_type": "code",
   "execution_count": 33,
   "metadata": {},
   "outputs": [
    {
     "name": "stdout",
     "output_type": "stream",
     "text": [
      "<class 'numpy.ndarray'>\n"
     ]
    },
    {
     "data": {
      "image/png": "[encoded data removed]",
      "text/plain": [
       "<Figure size 432x288 with 1 Axes>"
      ]
     },
     "metadata": {},
     "output_type": "display_data"
    },
    {
     "data": {
      "text/plain": [
       "{'A1': 2859, 'A2': 1907, 'B1': 1360, 'B2': 562, 'C1': 131, 'C2': 9}"
      ]
     },
     "execution_count": 33,
     "metadata": {},
     "output_type": "execute_result"
    }
   ],
   "source": [
    "import seaborn as sns\n",
    "import matplotlib.pyplot as plt\n",
    "\n",
    "print(type(classes))\n",
    "#rclasses = classes[::-1]\n",
    "\n",
    "sns.countplot(classes,label=\"Count\")\n",
    "plt.show()\n",
    "\n",
    "\n",
    "counter(classes)\n"
   ]
  },
  {
   "cell_type": "code",
   "execution_count": 29,
   "metadata": {},
   "outputs": [
    {
     "data": {
      "image/png": "[encoded data removed]",
      "text/plain": [
       "<Figure size 432x288 with 1 Axes>"
      ]
     },
     "metadata": {},
     "output_type": "display_data"
    },
    {
     "data": {
      "text/plain": [
       "{'A1': 2865, 'A2': 1906, 'B1': 1336, 'B2': 587, 'C1': 120, 'C2': 14}"
      ]
     },
     "execution_count": 29,
     "metadata": {},
     "output_type": "execute_result"
    }
   ],
   "source": [
    "sns.countplot(y_test,label=\"Count\")\n",
    "plt.show()\n",
    "\n",
    "  \n",
    "counter(y_test)"
   ]
  },
  {
   "cell_type": "code",
   "execution_count": 34,
   "metadata": {},
   "outputs": [],
   "source": [
    "#Maintenant qu'on a construit, entrainé et testé sur les données \"train\" notre réseau\n",
    "#Il nous faut l'utiliser sur des données non étiquettées\n",
    "#Ce sont les données dans le fichier test.csv"
   ]
  },
  {
   "cell_type": "code",
   "execution_count": 68,
   "metadata": {},
   "outputs": [
    {
     "name": "stdout",
     "output_type": "stream",
     "text": [
      "[[  1.    39.   142.   ...   0.82  29.47 105.19]\n",
      " [  7.    42.   182.   ...   0.74  19.98 260.77]\n",
      " [  9.    86.   299.   ...   0.62  17.8  164.95]\n",
      " ...\n",
      " [  1.   110.   425.   ...   0.66  23.4  109.09]\n",
      " [  2.    26.   118.   ...   0.88  37.6   88.76]\n",
      " [ 10.    68.   288.   ...   0.66  18.73 259.52]]\n"
     ]
    }
   ],
   "source": [
    "df = pandas.read_csv(\"DONNES/test_cap2018.csv\")\n",
    "don =  df.iloc[:,1:59]\n",
    "\n",
    "\n",
    "\n",
    "#Normalisation des données : \n",
    "\n",
    "\n",
    "\n",
    "where_are_NaNs = numpy.isnan(don) #Remplace les valeurs NaN par des 0\n",
    "don[where_are_NaNs] = 0\n",
    "\n",
    "#Normalisation \n",
    "\n",
    "scaler = StandardScaler()\n",
    "scaler.fit(X)\n",
    "StandardScaler(copy=True, with_mean=True, with_std=True)\n",
    "\n",
    "# Now apply the transformations to the data:\n",
    "don = scaler.transform(don)\n",
    "\n"
   ]
  },
  {
   "cell_type": "code",
   "execution_count": null,
   "metadata": {},
   "outputs": [],
   "source": []
  }
 ],
 "metadata": {
  "kernelspec": {
   "display_name": "Python 3",
   "language": "python",
   "name": "python3"
  },
  "language_info": {
   "codemirror_mode": {
    "name": "ipython",
    "version": 3
   },
   "file_extension": ".py",
   "mimetype": "text/x-python",
   "name": "python",
   "nbconvert_exporter": "python",
   "pygments_lexer": "ipython3",
   "version": "3.6.5"
  }
 },
 "nbformat": 4,
 "nbformat_minor": 2
}

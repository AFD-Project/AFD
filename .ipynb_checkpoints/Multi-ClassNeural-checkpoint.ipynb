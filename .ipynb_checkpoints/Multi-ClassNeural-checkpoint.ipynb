{
 "cells": [
  {
   "cell_type": "code",
   "execution_count": 7,
   "metadata": {},
   "outputs": [],
   "source": [
    "import numpy\n",
    "import pandas\n",
    "from keras.models import Sequential\n",
    "from keras.layers import Dense\n",
    "from keras.wrappers.scikit_learn import KerasClassifier\n",
    "from keras.utils import np_utils\n",
    "from sklearn.model_selection import cross_val_score\n",
    "from sklearn.model_selection import KFold\n",
    "from sklearn.preprocessing import LabelEncoder\n",
    "from sklearn.pipeline import Pipeline"
   ]
  },
  {
   "cell_type": "code",
   "execution_count": 8,
   "metadata": {},
   "outputs": [],
   "source": [
    "# fix random seed for reproducibility\n",
    "seed = 7\n",
    "numpy.random.seed(seed)"
   ]
  },
  {
   "cell_type": "code",
   "execution_count": 9,
   "metadata": {},
   "outputs": [],
   "source": [
    "# load dataset\n",
    "dataframe = pandas.read_csv(\"DONNES/train_cap2018.csv\")\n",
    "dataset = dataframe.values\n",
    "X = dataset[:,1:58].astype(float)\n",
    "Y = dataset[:,59]\n",
    "\n",
    "where_are_NaNs = numpy.isnan(X) #Remplace les valeurs NaN par des 0\n",
    "X[where_are_NaNs] = 0\n",
    "\n",
    "#print(X)\n",
    "#print(Y)"
   ]
  },
  {
   "cell_type": "code",
   "execution_count": 10,
   "metadata": {},
   "outputs": [],
   "source": [
    "# encode class values as integers\n",
    "encoder = LabelEncoder()\n",
    "encoder.fit(Y)\n",
    "encoded_Y = encoder.transform(Y)\n",
    "\n",
    "# convert integers to dummy variables (i.e. one hot encoded)\n",
    "dummy_y = np_utils.to_categorical(encoded_Y)\n",
    "\n",
    "#print(encoded_Y)\n",
    "#list(encoder.inverse_transform(encoded_Y)) la démarche inverse"
   ]
  },
  {
   "cell_type": "code",
   "execution_count": 27,
   "metadata": {},
   "outputs": [],
   "source": [
    "def baseline_model():\n",
    "\t# create model\n",
    "\tmodel = Sequential()\n",
    "\tmodel.add(Dense(8, input_dim=57, activation='relu'))\n",
    "\tmodel.add(Dense(8, activation='sigmoid'))\n",
    "\tmodel.add(Dense(6, activation='softmax'))\n",
    "\t# Compile model\n",
    "\tmodel.compile(loss='categorical_crossentropy', optimizer='adam', metrics=['accuracy'])\n",
    "\treturn model"
   ]
  },
  {
   "cell_type": "code",
   "execution_count": 28,
   "metadata": {},
   "outputs": [
    {
     "name": "stdout",
     "output_type": "stream",
     "text": [
      "Epoch 1/150\n",
      "27310/27310 [==============================] - 5s 200us/step - loss: 1.4059 - acc: 0.3839 0s - loss: 1.4309\n",
      "Epoch 2/150\n",
      "27310/27310 [==============================] - 5s 193us/step - loss: 1.0836 - acc: 0.5442\n",
      "Epoch 3/150\n",
      "27310/27310 [==============================] - 5s 173us/step - loss: 0.9494 - acc: 0.6164\n",
      "Epoch 4/150\n",
      "27310/27310 [==============================] - 4s 142us/step - loss: 0.9131 - acc: 0.6278\n",
      "Epoch 5/150\n",
      "27310/27310 [==============================] - 4s 155us/step - loss: 0.8810 - acc: 0.6521\n",
      "Epoch 6/150\n",
      "27310/27310 [==============================] - 4s 148us/step - loss: 0.8597 - acc: 0.6670\n",
      "Epoch 7/150\n",
      "27310/27310 [==============================] - 4s 161us/step - loss: 0.8517 - acc: 0.6647\n",
      "Epoch 8/150\n",
      "27310/27310 [==============================] - 5s 165us/step - loss: 0.8512 - acc: 0.6604\n",
      "Epoch 9/150\n",
      "27310/27310 [==============================] - 4s 150us/step - loss: 0.8342 - acc: 0.6774 0s - loss: 0.8350 - acc: \n",
      "Epoch 10/150\n",
      "27310/27310 [==============================] - 4s 160us/step - loss: 0.8336 - acc: 0.6773\n",
      "Epoch 11/150\n",
      "27310/27310 [==============================] - 4s 148us/step - loss: 0.8291 - acc: 0.6797\n",
      "Epoch 12/150\n",
      "27310/27310 [==============================] - 4s 149us/step - loss: 0.8326 - acc: 0.6768\n",
      "Epoch 13/150\n",
      "27310/27310 [==============================] - 4s 151us/step - loss: 0.8330 - acc: 0.6689\n",
      "Epoch 14/150\n",
      "27310/27310 [==============================] - 4s 156us/step - loss: 0.8165 - acc: 0.6848\n",
      "Epoch 15/150\n",
      "27310/27310 [==============================] - 4s 146us/step - loss: 0.8106 - acc: 0.6766\n",
      "Epoch 16/150\n",
      "27310/27310 [==============================] - 5s 190us/step - loss: 0.7994 - acc: 0.6943\n",
      "Epoch 17/150\n",
      "27310/27310 [==============================] - 5s 193us/step - loss: 0.8016 - acc: 0.6914\n",
      "Epoch 18/150\n",
      "27310/27310 [==============================] - 5s 181us/step - loss: 0.7983 - acc: 0.6962\n",
      "Epoch 19/150\n",
      "27310/27310 [==============================] - 5s 173us/step - loss: 0.8046 - acc: 0.6907\n",
      "Epoch 20/150\n",
      "27310/27310 [==============================] - 5s 180us/step - loss: 0.7932 - acc: 0.6946\n",
      "Epoch 21/150\n",
      "27310/27310 [==============================] - 5s 189us/step - loss: 0.7891 - acc: 0.6912\n",
      "Epoch 22/150\n",
      "27310/27310 [==============================] - 5s 200us/step - loss: 0.7867 - acc: 0.6862\n",
      "Epoch 23/150\n",
      "27310/27310 [==============================] - 4s 137us/step - loss: 0.7785 - acc: 0.7077\n",
      "Epoch 24/150\n",
      "27310/27310 [==============================] - 4s 136us/step - loss: 0.7629 - acc: 0.7102 1s  - ETA: 0s - loss: 0.7625 -\n",
      "Epoch 25/150\n",
      "27310/27310 [==============================] - 4s 155us/step - loss: 0.7646 - acc: 0.7097\n",
      "Epoch 26/150\n",
      "27310/27310 [==============================] - 4s 150us/step - loss: 0.7639 - acc: 0.7076\n",
      "Epoch 27/150\n",
      "27310/27310 [==============================] - 5s 183us/step - loss: 0.7599 - acc: 0.7072\n",
      "Epoch 28/150\n",
      "27310/27310 [==============================] - 4s 155us/step - loss: 0.7655 - acc: 0.7067\n",
      "Epoch 29/150\n",
      "27310/27310 [==============================] - 4s 156us/step - loss: 0.7605 - acc: 0.7172\n",
      "Epoch 30/150\n",
      "27310/27310 [==============================] - 4s 139us/step - loss: 0.7626 - acc: 0.7146\n",
      "Epoch 31/150\n",
      "27310/27310 [==============================] - 4s 139us/step - loss: 0.7701 - acc: 0.7124\n",
      "Epoch 32/150\n",
      "27310/27310 [==============================] - 4s 156us/step - loss: 0.7770 - acc: 0.7034\n",
      "Epoch 33/150\n",
      "27310/27310 [==============================] - 5s 167us/step - loss: 0.7726 - acc: 0.7092\n",
      "Epoch 34/150\n",
      "27310/27310 [==============================] - 6s 217us/step - loss: 0.7587 - acc: 0.7193\n",
      "Epoch 35/150\n",
      "27310/27310 [==============================] - 6s 234us/step - loss: 0.7598 - acc: 0.7081\n",
      "Epoch 36/150\n",
      "27310/27310 [==============================] - 4s 159us/step - loss: 0.7493 - acc: 0.7141\n",
      "Epoch 37/150\n",
      "27310/27310 [==============================] - 6s 204us/step - loss: 0.7519 - acc: 0.7184\n",
      "Epoch 38/150\n",
      "27310/27310 [==============================] - 4s 155us/step - loss: 0.7502 - acc: 0.7094\n",
      "Epoch 39/150\n",
      "27310/27310 [==============================] - 5s 166us/step - loss: 0.7584 - acc: 0.7050\n",
      "Epoch 40/150\n",
      "27310/27310 [==============================] - 4s 144us/step - loss: 0.7436 - acc: 0.7131\n",
      "Epoch 41/150\n",
      "27310/27310 [==============================] - 4s 147us/step - loss: 0.7520 - acc: 0.7119\n",
      "Epoch 42/150\n",
      "27310/27310 [==============================] - 5s 174us/step - loss: 0.7527 - acc: 0.6931\n",
      "Epoch 43/150\n",
      "27310/27310 [==============================] - 4s 148us/step - loss: 0.7444 - acc: 0.7101\n",
      "Epoch 44/150\n",
      "27310/27310 [==============================] - 4s 147us/step - loss: 0.7431 - acc: 0.7094\n",
      "Epoch 45/150\n",
      "27310/27310 [==============================] - 4s 158us/step - loss: 0.7397 - acc: 0.7143\n",
      "Epoch 46/150\n",
      "27310/27310 [==============================] - 5s 188us/step - loss: 0.7355 - acc: 0.7179\n",
      "Epoch 47/150\n",
      "27310/27310 [==============================] - 4s 162us/step - loss: 0.7382 - acc: 0.7181\n",
      "Epoch 48/150\n",
      "27310/27310 [==============================] - 4s 150us/step - loss: 0.7423 - acc: 0.7042\n",
      "Epoch 49/150\n",
      "27310/27310 [==============================] - 5s 166us/step - loss: 0.7301 - acc: 0.7140\n",
      "Epoch 50/150\n",
      "27310/27310 [==============================] - 4s 151us/step - loss: 0.7359 - acc: 0.7171\n",
      "Epoch 51/150\n",
      "27310/27310 [==============================] - 4s 145us/step - loss: 0.7482 - acc: 0.7262\n",
      "Epoch 52/150\n",
      "27310/27310 [==============================] - 4s 153us/step - loss: 0.7382 - acc: 0.7293\n",
      "Epoch 53/150\n",
      "27310/27310 [==============================] - 4s 153us/step - loss: 0.7329 - acc: 0.7259\n",
      "Epoch 54/150\n",
      "27310/27310 [==============================] - 4s 142us/step - loss: 0.7440 - acc: 0.7151\n",
      "Epoch 55/150\n",
      "27310/27310 [==============================] - 4s 145us/step - loss: 0.7358 - acc: 0.7226\n",
      "Epoch 56/150\n",
      "27310/27310 [==============================] - 4s 145us/step - loss: 0.7434 - acc: 0.7151\n",
      "Epoch 57/150\n",
      "27310/27310 [==============================] - 4s 151us/step - loss: 0.7404 - acc: 0.7123\n",
      "Epoch 58/150\n",
      "27310/27310 [==============================] - 4s 148us/step - loss: 0.7381 - acc: 0.7246\n",
      "Epoch 59/150\n",
      "27310/27310 [==============================] - 4s 163us/step - loss: 0.7474 - acc: 0.7122\n",
      "Epoch 60/150\n",
      "27310/27310 [==============================] - 5s 184us/step - loss: 0.7435 - acc: 0.7258\n",
      "Epoch 61/150\n",
      "27310/27310 [==============================] - 4s 145us/step - loss: 0.7336 - acc: 0.7213\n",
      "Epoch 62/150\n",
      "27310/27310 [==============================] - 4s 152us/step - loss: 0.7256 - acc: 0.7282\n",
      "Epoch 63/150\n",
      "  792/27310 [..............................] - ETA: 3s - loss: 0.7647 - acc: 0.6768"
     ]
    },
    {
     "ename": "KeyboardInterrupt",
     "evalue": "",
     "output_type": "error",
     "traceback": [
      "\u001b[0;31m---------------------------------------------------------------------------\u001b[0m",
      "\u001b[0;31mKeyboardInterrupt\u001b[0m                         Traceback (most recent call last)",
      "\u001b[0;32m<ipython-input-28-b03bf48d38e3>\u001b[0m in \u001b[0;36m<module>\u001b[0;34m()\u001b[0m\n\u001b[1;32m      1\u001b[0m \u001b[0mmodel\u001b[0m \u001b[0;34m=\u001b[0m \u001b[0mbaseline_model\u001b[0m\u001b[0;34m(\u001b[0m\u001b[0;34m)\u001b[0m\u001b[0;34m\u001b[0m\u001b[0m\n\u001b[0;32m----> 2\u001b[0;31m \u001b[0mmodel\u001b[0m\u001b[0;34m.\u001b[0m\u001b[0mfit\u001b[0m\u001b[0;34m(\u001b[0m\u001b[0mX\u001b[0m\u001b[0;34m,\u001b[0m \u001b[0mdummy_y\u001b[0m\u001b[0;34m,\u001b[0m \u001b[0mepochs\u001b[0m\u001b[0;34m=\u001b[0m\u001b[0;36m150\u001b[0m\u001b[0;34m,\u001b[0m \u001b[0mbatch_size\u001b[0m\u001b[0;34m=\u001b[0m\u001b[0;36m24\u001b[0m\u001b[0;34m)\u001b[0m \u001b[0;31m#Attention aux paramètres, certains changement provoquent l'overfitting !\u001b[0m\u001b[0;34m\u001b[0m\u001b[0m\n\u001b[0m",
      "\u001b[0;32m/anaconda3/lib/python3.6/site-packages/keras/models.py\u001b[0m in \u001b[0;36mfit\u001b[0;34m(self, x, y, batch_size, epochs, verbose, callbacks, validation_split, validation_data, shuffle, class_weight, sample_weight, initial_epoch, steps_per_epoch, validation_steps, **kwargs)\u001b[0m\n\u001b[1;32m   1000\u001b[0m                               \u001b[0minitial_epoch\u001b[0m\u001b[0;34m=\u001b[0m\u001b[0minitial_epoch\u001b[0m\u001b[0;34m,\u001b[0m\u001b[0;34m\u001b[0m\u001b[0m\n\u001b[1;32m   1001\u001b[0m                               \u001b[0msteps_per_epoch\u001b[0m\u001b[0;34m=\u001b[0m\u001b[0msteps_per_epoch\u001b[0m\u001b[0;34m,\u001b[0m\u001b[0;34m\u001b[0m\u001b[0m\n\u001b[0;32m-> 1002\u001b[0;31m                               validation_steps=validation_steps)\n\u001b[0m\u001b[1;32m   1003\u001b[0m \u001b[0;34m\u001b[0m\u001b[0m\n\u001b[1;32m   1004\u001b[0m     def evaluate(self, x=None, y=None,\n",
      "\u001b[0;32m/anaconda3/lib/python3.6/site-packages/keras/engine/training.py\u001b[0m in \u001b[0;36mfit\u001b[0;34m(self, x, y, batch_size, epochs, verbose, callbacks, validation_split, validation_data, shuffle, class_weight, sample_weight, initial_epoch, steps_per_epoch, validation_steps, **kwargs)\u001b[0m\n\u001b[1;32m   1703\u001b[0m                               \u001b[0minitial_epoch\u001b[0m\u001b[0;34m=\u001b[0m\u001b[0minitial_epoch\u001b[0m\u001b[0;34m,\u001b[0m\u001b[0;34m\u001b[0m\u001b[0m\n\u001b[1;32m   1704\u001b[0m                               \u001b[0msteps_per_epoch\u001b[0m\u001b[0;34m=\u001b[0m\u001b[0msteps_per_epoch\u001b[0m\u001b[0;34m,\u001b[0m\u001b[0;34m\u001b[0m\u001b[0m\n\u001b[0;32m-> 1705\u001b[0;31m                               validation_steps=validation_steps)\n\u001b[0m\u001b[1;32m   1706\u001b[0m \u001b[0;34m\u001b[0m\u001b[0m\n\u001b[1;32m   1707\u001b[0m     def evaluate(self, x=None, y=None,\n",
      "\u001b[0;32m/anaconda3/lib/python3.6/site-packages/keras/engine/training.py\u001b[0m in \u001b[0;36m_fit_loop\u001b[0;34m(self, f, ins, out_labels, batch_size, epochs, verbose, callbacks, val_f, val_ins, shuffle, callback_metrics, initial_epoch, steps_per_epoch, validation_steps)\u001b[0m\n\u001b[1;32m   1234\u001b[0m                         \u001b[0mins_batch\u001b[0m\u001b[0;34m[\u001b[0m\u001b[0mi\u001b[0m\u001b[0;34m]\u001b[0m \u001b[0;34m=\u001b[0m \u001b[0mins_batch\u001b[0m\u001b[0;34m[\u001b[0m\u001b[0mi\u001b[0m\u001b[0;34m]\u001b[0m\u001b[0;34m.\u001b[0m\u001b[0mtoarray\u001b[0m\u001b[0;34m(\u001b[0m\u001b[0;34m)\u001b[0m\u001b[0;34m\u001b[0m\u001b[0m\n\u001b[1;32m   1235\u001b[0m \u001b[0;34m\u001b[0m\u001b[0m\n\u001b[0;32m-> 1236\u001b[0;31m                     \u001b[0mouts\u001b[0m \u001b[0;34m=\u001b[0m \u001b[0mf\u001b[0m\u001b[0;34m(\u001b[0m\u001b[0mins_batch\u001b[0m\u001b[0;34m)\u001b[0m\u001b[0;34m\u001b[0m\u001b[0m\n\u001b[0m\u001b[1;32m   1237\u001b[0m                     \u001b[0;32mif\u001b[0m \u001b[0;32mnot\u001b[0m \u001b[0misinstance\u001b[0m\u001b[0;34m(\u001b[0m\u001b[0mouts\u001b[0m\u001b[0;34m,\u001b[0m \u001b[0mlist\u001b[0m\u001b[0;34m)\u001b[0m\u001b[0;34m:\u001b[0m\u001b[0;34m\u001b[0m\u001b[0m\n\u001b[1;32m   1238\u001b[0m                         \u001b[0mouts\u001b[0m \u001b[0;34m=\u001b[0m \u001b[0;34m[\u001b[0m\u001b[0mouts\u001b[0m\u001b[0;34m]\u001b[0m\u001b[0;34m\u001b[0m\u001b[0m\n",
      "\u001b[0;32m/anaconda3/lib/python3.6/site-packages/keras/backend/tensorflow_backend.py\u001b[0m in \u001b[0;36m__call__\u001b[0;34m(self, inputs)\u001b[0m\n\u001b[1;32m   2480\u001b[0m         \u001b[0msession\u001b[0m \u001b[0;34m=\u001b[0m \u001b[0mget_session\u001b[0m\u001b[0;34m(\u001b[0m\u001b[0;34m)\u001b[0m\u001b[0;34m\u001b[0m\u001b[0m\n\u001b[1;32m   2481\u001b[0m         updated = session.run(fetches=fetches, feed_dict=feed_dict,\n\u001b[0;32m-> 2482\u001b[0;31m                               **self.session_kwargs)\n\u001b[0m\u001b[1;32m   2483\u001b[0m         \u001b[0;32mreturn\u001b[0m \u001b[0mupdated\u001b[0m\u001b[0;34m[\u001b[0m\u001b[0;34m:\u001b[0m\u001b[0mlen\u001b[0m\u001b[0;34m(\u001b[0m\u001b[0mself\u001b[0m\u001b[0;34m.\u001b[0m\u001b[0moutputs\u001b[0m\u001b[0;34m)\u001b[0m\u001b[0;34m]\u001b[0m\u001b[0;34m\u001b[0m\u001b[0m\n\u001b[1;32m   2484\u001b[0m \u001b[0;34m\u001b[0m\u001b[0m\n",
      "\u001b[0;32m/anaconda3/lib/python3.6/site-packages/tensorflow/python/client/session.py\u001b[0m in \u001b[0;36mrun\u001b[0;34m(self, fetches, feed_dict, options, run_metadata)\u001b[0m\n\u001b[1;32m    893\u001b[0m     \u001b[0;32mtry\u001b[0m\u001b[0;34m:\u001b[0m\u001b[0;34m\u001b[0m\u001b[0m\n\u001b[1;32m    894\u001b[0m       result = self._run(None, fetches, feed_dict, options_ptr,\n\u001b[0;32m--> 895\u001b[0;31m                          run_metadata_ptr)\n\u001b[0m\u001b[1;32m    896\u001b[0m       \u001b[0;32mif\u001b[0m \u001b[0mrun_metadata\u001b[0m\u001b[0;34m:\u001b[0m\u001b[0;34m\u001b[0m\u001b[0m\n\u001b[1;32m    897\u001b[0m         \u001b[0mproto_data\u001b[0m \u001b[0;34m=\u001b[0m \u001b[0mtf_session\u001b[0m\u001b[0;34m.\u001b[0m\u001b[0mTF_GetBuffer\u001b[0m\u001b[0;34m(\u001b[0m\u001b[0mrun_metadata_ptr\u001b[0m\u001b[0;34m)\u001b[0m\u001b[0;34m\u001b[0m\u001b[0m\n",
      "\u001b[0;32m/anaconda3/lib/python3.6/site-packages/tensorflow/python/client/session.py\u001b[0m in \u001b[0;36m_run\u001b[0;34m(self, handle, fetches, feed_dict, options, run_metadata)\u001b[0m\n\u001b[1;32m   1126\u001b[0m     \u001b[0;32mif\u001b[0m \u001b[0mfinal_fetches\u001b[0m \u001b[0;32mor\u001b[0m \u001b[0mfinal_targets\u001b[0m \u001b[0;32mor\u001b[0m \u001b[0;34m(\u001b[0m\u001b[0mhandle\u001b[0m \u001b[0;32mand\u001b[0m \u001b[0mfeed_dict_tensor\u001b[0m\u001b[0;34m)\u001b[0m\u001b[0;34m:\u001b[0m\u001b[0;34m\u001b[0m\u001b[0m\n\u001b[1;32m   1127\u001b[0m       results = self._do_run(handle, final_targets, final_fetches,\n\u001b[0;32m-> 1128\u001b[0;31m                              feed_dict_tensor, options, run_metadata)\n\u001b[0m\u001b[1;32m   1129\u001b[0m     \u001b[0;32melse\u001b[0m\u001b[0;34m:\u001b[0m\u001b[0;34m\u001b[0m\u001b[0m\n\u001b[1;32m   1130\u001b[0m       \u001b[0mresults\u001b[0m \u001b[0;34m=\u001b[0m \u001b[0;34m[\u001b[0m\u001b[0;34m]\u001b[0m\u001b[0;34m\u001b[0m\u001b[0m\n",
      "\u001b[0;32m/anaconda3/lib/python3.6/site-packages/tensorflow/python/client/session.py\u001b[0m in \u001b[0;36m_do_run\u001b[0;34m(self, handle, target_list, fetch_list, feed_dict, options, run_metadata)\u001b[0m\n\u001b[1;32m   1342\u001b[0m     \u001b[0;32mif\u001b[0m \u001b[0mhandle\u001b[0m \u001b[0;32mis\u001b[0m \u001b[0;32mNone\u001b[0m\u001b[0;34m:\u001b[0m\u001b[0;34m\u001b[0m\u001b[0m\n\u001b[1;32m   1343\u001b[0m       return self._do_call(_run_fn, self._session, feeds, fetches, targets,\n\u001b[0;32m-> 1344\u001b[0;31m                            options, run_metadata)\n\u001b[0m\u001b[1;32m   1345\u001b[0m     \u001b[0;32melse\u001b[0m\u001b[0;34m:\u001b[0m\u001b[0;34m\u001b[0m\u001b[0m\n\u001b[1;32m   1346\u001b[0m       \u001b[0;32mreturn\u001b[0m \u001b[0mself\u001b[0m\u001b[0;34m.\u001b[0m\u001b[0m_do_call\u001b[0m\u001b[0;34m(\u001b[0m\u001b[0m_prun_fn\u001b[0m\u001b[0;34m,\u001b[0m \u001b[0mself\u001b[0m\u001b[0;34m.\u001b[0m\u001b[0m_session\u001b[0m\u001b[0;34m,\u001b[0m \u001b[0mhandle\u001b[0m\u001b[0;34m,\u001b[0m \u001b[0mfeeds\u001b[0m\u001b[0;34m,\u001b[0m \u001b[0mfetches\u001b[0m\u001b[0;34m)\u001b[0m\u001b[0;34m\u001b[0m\u001b[0m\n",
      "\u001b[0;32m/anaconda3/lib/python3.6/site-packages/tensorflow/python/client/session.py\u001b[0m in \u001b[0;36m_do_call\u001b[0;34m(self, fn, *args)\u001b[0m\n\u001b[1;32m   1348\u001b[0m   \u001b[0;32mdef\u001b[0m \u001b[0m_do_call\u001b[0m\u001b[0;34m(\u001b[0m\u001b[0mself\u001b[0m\u001b[0;34m,\u001b[0m \u001b[0mfn\u001b[0m\u001b[0;34m,\u001b[0m \u001b[0;34m*\u001b[0m\u001b[0margs\u001b[0m\u001b[0;34m)\u001b[0m\u001b[0;34m:\u001b[0m\u001b[0;34m\u001b[0m\u001b[0m\n\u001b[1;32m   1349\u001b[0m     \u001b[0;32mtry\u001b[0m\u001b[0;34m:\u001b[0m\u001b[0;34m\u001b[0m\u001b[0m\n\u001b[0;32m-> 1350\u001b[0;31m       \u001b[0;32mreturn\u001b[0m \u001b[0mfn\u001b[0m\u001b[0;34m(\u001b[0m\u001b[0;34m*\u001b[0m\u001b[0margs\u001b[0m\u001b[0;34m)\u001b[0m\u001b[0;34m\u001b[0m\u001b[0m\n\u001b[0m\u001b[1;32m   1351\u001b[0m     \u001b[0;32mexcept\u001b[0m \u001b[0merrors\u001b[0m\u001b[0;34m.\u001b[0m\u001b[0mOpError\u001b[0m \u001b[0;32mas\u001b[0m \u001b[0me\u001b[0m\u001b[0;34m:\u001b[0m\u001b[0;34m\u001b[0m\u001b[0m\n\u001b[1;32m   1352\u001b[0m       \u001b[0mmessage\u001b[0m \u001b[0;34m=\u001b[0m \u001b[0mcompat\u001b[0m\u001b[0;34m.\u001b[0m\u001b[0mas_text\u001b[0m\u001b[0;34m(\u001b[0m\u001b[0me\u001b[0m\u001b[0;34m.\u001b[0m\u001b[0mmessage\u001b[0m\u001b[0;34m)\u001b[0m\u001b[0;34m\u001b[0m\u001b[0m\n",
      "\u001b[0;32m/anaconda3/lib/python3.6/site-packages/tensorflow/python/client/session.py\u001b[0m in \u001b[0;36m_run_fn\u001b[0;34m(session, feed_dict, fetch_list, target_list, options, run_metadata)\u001b[0m\n\u001b[1;32m   1327\u001b[0m           return tf_session.TF_Run(session, options,\n\u001b[1;32m   1328\u001b[0m                                    \u001b[0mfeed_dict\u001b[0m\u001b[0;34m,\u001b[0m \u001b[0mfetch_list\u001b[0m\u001b[0;34m,\u001b[0m \u001b[0mtarget_list\u001b[0m\u001b[0;34m,\u001b[0m\u001b[0;34m\u001b[0m\u001b[0m\n\u001b[0;32m-> 1329\u001b[0;31m                                    status, run_metadata)\n\u001b[0m\u001b[1;32m   1330\u001b[0m \u001b[0;34m\u001b[0m\u001b[0m\n\u001b[1;32m   1331\u001b[0m     \u001b[0;32mdef\u001b[0m \u001b[0m_prun_fn\u001b[0m\u001b[0;34m(\u001b[0m\u001b[0msession\u001b[0m\u001b[0;34m,\u001b[0m \u001b[0mhandle\u001b[0m\u001b[0;34m,\u001b[0m \u001b[0mfeed_dict\u001b[0m\u001b[0;34m,\u001b[0m \u001b[0mfetch_list\u001b[0m\u001b[0;34m)\u001b[0m\u001b[0;34m:\u001b[0m\u001b[0;34m\u001b[0m\u001b[0m\n",
      "\u001b[0;31mKeyboardInterrupt\u001b[0m: "
     ]
    }
   ],
   "source": [
    "model = baseline_model()\n",
    "model.fit(X, dummy_y, epochs=150, batch_size=24) #Attention aux paramètres, certains changement provoquent l'overfitting !"
   ]
  },
  {
   "cell_type": "code",
   "execution_count": 15,
   "metadata": {},
   "outputs": [
    {
     "name": "stdout",
     "output_type": "stream",
     "text": [
      "27310/27310 [==============================] - 2s 55us/step\n",
      "\n",
      "acc: 73.64%\n"
     ]
    }
   ],
   "source": [
    "# evaluate the model\n",
    "scores = model.evaluate(X, dummy_y)\n",
    "print(\"\\n%s: %.2f%%\" % (model.metrics_names[1], scores[1]*100))"
   ]
  },
  {
   "cell_type": "code",
   "execution_count": 24,
   "metadata": {},
   "outputs": [
    {
     "name": "stdout",
     "output_type": "stream",
     "text": [
      "['C1' 'C1' 'C1' ... 'A1' 'A1' 'A1']\n"
     ]
    },
    {
     "name": "stderr",
     "output_type": "stream",
     "text": [
      "/anaconda3/lib/python3.6/site-packages/sklearn/preprocessing/label.py:151: DeprecationWarning: The truth value of an empty array is ambiguous. Returning False, but in future this will result in an error. Use `array.size > 0` to check that an array is not empty.\n",
      "  if diff:\n"
     ]
    }
   ],
   "source": [
    "#predictions = model.predict(X)\n",
    "predictions = model.predict_classes(X)\n",
    "classes = encoder.inverse_transform(predictions)\n",
    "\n",
    "print(classes)\n",
    "# round predictions\n",
    "#for x in predictions :\n",
    "#    print(x)\n",
    "#print(dummy_y)"
   ]
  },
  {
   "cell_type": "code",
   "execution_count": 31,
   "metadata": {},
   "outputs": [
    {
     "name": "stdout",
     "output_type": "stream",
     "text": [
      "<class 'numpy.ndarray'>\n"
     ]
    },
    {
     "data": {
      "image/png": "[encoded data removed]",
      "text/plain": [
       "<Figure size 432x288 with 1 Axes>"
      ]
     },
     "metadata": {},
     "output_type": "display_data"
    }
   ],
   "source": [
    "import seaborn as sns\n",
    "import matplotlib.pyplot as plt\n",
    "\n",
    "print(type(classes))\n",
    "sns.countplot(classes,label=\"Count\")\n",
    "plt.show()"
   ]
  },
  {
   "cell_type": "code",
   "execution_count": null,
   "metadata": {},
   "outputs": [],
   "source": []
  }
 ],
 "metadata": {
  "kernelspec": {
   "display_name": "Python 3",
   "language": "python",
   "name": "python3"
  },
  "language_info": {
   "codemirror_mode": {
    "name": "ipython",
    "version": 3
   },
   "file_extension": ".py",
   "mimetype": "text/x-python",
   "name": "python",
   "nbconvert_exporter": "python",
   "pygments_lexer": "ipython3",
   "version": "3.6.5"
  }
 },
 "nbformat": 4,
 "nbformat_minor": 2
}

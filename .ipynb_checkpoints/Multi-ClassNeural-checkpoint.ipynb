{
 "cells": [
  {
   "cell_type": "code",
   "execution_count": 113,
   "metadata": {},
   "outputs": [],
   "source": [
    "import numpy\n",
    "import pandas\n",
    "from keras.models import Sequential\n",
    "from keras.layers import Dense\n",
    "from keras.wrappers.scikit_learn import KerasClassifier\n",
    "from keras.utils import np_utils\n",
    "from sklearn.model_selection import cross_val_score\n",
    "from sklearn.model_selection import KFold\n",
    "from sklearn.preprocessing import LabelEncoder\n",
    "from sklearn.pipeline import Pipeline"
   ]
  },
  {
   "cell_type": "code",
   "execution_count": 114,
   "metadata": {},
   "outputs": [],
   "source": [
    "# fix random seed for reproducibility\n",
    "seed = 7\n",
    "numpy.random.seed(seed)"
   ]
  },
  {
   "cell_type": "code",
   "execution_count": 115,
   "metadata": {},
   "outputs": [],
   "source": [
    "# load dataset\n",
    "dataframe = pandas.read_csv(\"DONNES/train_cap2018.csv\")\n",
    "dataset = dataframe.values\n",
    "X = dataset[:,1:58].astype(float)\n",
    "Y = dataset[:,59]\n",
    "\n",
    "where_are_NaNs = numpy.isnan(X) #Remplace les valeurs NaN par des 0\n",
    "X[where_are_NaNs] = 0\n",
    "\n",
    "#print(X)\n",
    "#print(Y)"
   ]
  },
  {
   "cell_type": "code",
   "execution_count": 116,
   "metadata": {},
   "outputs": [],
   "source": [
    "# encode class values as integers\n",
    "encoder = LabelEncoder()\n",
    "encoder.fit(Y)\n",
    "encoded_Y = encoder.transform(Y)\n",
    "\n",
    "# convert integers to dummy variables (i.e. one hot encoded)\n",
    "dummy_y = np_utils.to_categorical(encoded_Y)\n",
    "\n",
    "#print(encoded_Y)\n",
    "#list(encoder.inverse_transform(encoded_Y)) la démarche inverse"
   ]
  },
  {
   "cell_type": "code",
   "execution_count": 117,
   "metadata": {},
   "outputs": [],
   "source": [
    "def baseline_model():\n",
    "\t# create model\n",
    "\tmodel = Sequential()\n",
    "\tmodel.add(Dense(8, input_dim=57, activation='relu'))\n",
    "\tmodel.add(Dense(6, activation='softmax'))\n",
    "\t# Compile model\n",
    "\tmodel.compile(loss='categorical_crossentropy', optimizer='adam', metrics=['accuracy'])\n",
    "\treturn model"
   ]
  },
  {
   "cell_type": "code",
   "execution_count": 119,
   "metadata": {},
   "outputs": [
    {
     "name": "stdout",
     "output_type": "stream",
     "text": [
      "Epoch 1/150\n",
      "27310/27310 [==============================] - 1s 51us/step - loss: 9.4988 - acc: 0.3456\n",
      "Epoch 2/150\n",
      "27310/27310 [==============================] - 1s 27us/step - loss: 8.8290 - acc: 0.3521\n",
      "Epoch 3/150\n",
      "27310/27310 [==============================] - 1s 26us/step - loss: 8.7693 - acc: 0.3590\n",
      "Epoch 4/150\n",
      "27310/27310 [==============================] - 1s 26us/step - loss: 8.7241 - acc: 0.3632\n",
      "Epoch 5/150\n",
      "27310/27310 [==============================] - 1s 27us/step - loss: 8.7081 - acc: 0.3670\n",
      "Epoch 6/150\n",
      "27310/27310 [==============================] - 1s 26us/step - loss: 8.6723 - acc: 0.3747\n",
      "Epoch 7/150\n",
      "27310/27310 [==============================] - 1s 27us/step - loss: 8.6917 - acc: 0.3708\n",
      "Epoch 8/150\n",
      "27310/27310 [==============================] - 1s 27us/step - loss: 8.6764 - acc: 0.3742\n",
      "Epoch 9/150\n",
      "27310/27310 [==============================] - 1s 28us/step - loss: 8.6742 - acc: 0.3742\n",
      "Epoch 10/150\n",
      "27310/27310 [==============================] - 1s 26us/step - loss: 8.6598 - acc: 0.3764\n",
      "Epoch 11/150\n",
      "27310/27310 [==============================] - 1s 26us/step - loss: 8.6707 - acc: 0.3772\n",
      "Epoch 12/150\n",
      "27310/27310 [==============================] - 1s 27us/step - loss: 8.6491 - acc: 0.3801\n",
      "Epoch 13/150\n",
      "27310/27310 [==============================] - 1s 26us/step - loss: 8.6448 - acc: 0.3828\n",
      "Epoch 14/150\n",
      "27310/27310 [==============================] - 1s 26us/step - loss: 8.6472 - acc: 0.3796\n",
      "Epoch 15/150\n",
      "27310/27310 [==============================] - 1s 27us/step - loss: 8.6462 - acc: 0.3824\n",
      "Epoch 16/150\n",
      "27310/27310 [==============================] - 1s 27us/step - loss: 8.6382 - acc: 0.3837\n",
      "Epoch 17/150\n",
      "27310/27310 [==============================] - 1s 27us/step - loss: 8.6468 - acc: 0.3797\n",
      "Epoch 18/150\n",
      "27310/27310 [==============================] - 1s 27us/step - loss: 8.6340 - acc: 0.3852\n",
      "Epoch 19/150\n",
      "27310/27310 [==============================] - 1s 26us/step - loss: 8.6356 - acc: 0.3837\n",
      "Epoch 20/150\n",
      "27310/27310 [==============================] - 1s 27us/step - loss: 8.6118 - acc: 0.3855\n",
      "Epoch 21/150\n",
      "27310/27310 [==============================] - 1s 28us/step - loss: 1.8732 - acc: 0.4184\n",
      "Epoch 22/150\n",
      "27310/27310 [==============================] - 1s 29us/step - loss: 1.3641 - acc: 0.4178\n",
      "Epoch 23/150\n",
      "27310/27310 [==============================] - 1s 27us/step - loss: 1.3614 - acc: 0.4178\n",
      "Epoch 24/150\n",
      "27310/27310 [==============================] - 1s 27us/step - loss: 1.3604 - acc: 0.4179\n",
      "Epoch 25/150\n",
      "27310/27310 [==============================] - 1s 26us/step - loss: 1.3600 - acc: 0.4179\n",
      "Epoch 26/150\n",
      "27310/27310 [==============================] - 1s 27us/step - loss: 1.3598 - acc: 0.4179\n",
      "Epoch 27/150\n",
      "27310/27310 [==============================] - 1s 27us/step - loss: 1.3597 - acc: 0.4179\n",
      "Epoch 28/150\n",
      "27310/27310 [==============================] - 1s 27us/step - loss: 1.3596 - acc: 0.4179\n",
      "Epoch 29/150\n",
      "27310/27310 [==============================] - 1s 27us/step - loss: 1.3596 - acc: 0.4179\n",
      "Epoch 30/150\n",
      "27310/27310 [==============================] - 1s 28us/step - loss: 1.3595 - acc: 0.4179\n",
      "Epoch 31/150\n",
      "27310/27310 [==============================] - 1s 28us/step - loss: 1.3595 - acc: 0.4179\n",
      "Epoch 32/150\n",
      "27310/27310 [==============================] - 1s 28us/step - loss: 1.3596 - acc: 0.4179\n",
      "Epoch 33/150\n",
      "27310/27310 [==============================] - 1s 28us/step - loss: 1.3595 - acc: 0.4179\n",
      "Epoch 34/150\n",
      "27310/27310 [==============================] - 1s 28us/step - loss: 1.3595 - acc: 0.4179\n",
      "Epoch 35/150\n",
      "27310/27310 [==============================] - 1s 28us/step - loss: 1.3595 - acc: 0.4179\n",
      "Epoch 36/150\n",
      "27310/27310 [==============================] - 1s 28us/step - loss: 1.3595 - acc: 0.4179\n",
      "Epoch 37/150\n",
      "27310/27310 [==============================] - 1s 30us/step - loss: 1.3596 - acc: 0.4179\n",
      "Epoch 38/150\n",
      "27310/27310 [==============================] - 1s 29us/step - loss: 1.3595 - acc: 0.4179\n",
      "Epoch 39/150\n",
      "27310/27310 [==============================] - 1s 29us/step - loss: 1.3595 - acc: 0.4179\n",
      "Epoch 40/150\n",
      "27310/27310 [==============================] - 1s 28us/step - loss: 1.3595 - acc: 0.4179\n",
      "Epoch 41/150\n",
      "27310/27310 [==============================] - 1s 29us/step - loss: 1.3595 - acc: 0.4179\n",
      "Epoch 42/150\n",
      "27310/27310 [==============================] - 1s 29us/step - loss: 1.3595 - acc: 0.4179\n",
      "Epoch 43/150\n",
      "27310/27310 [==============================] - 1s 29us/step - loss: 1.3595 - acc: 0.4179\n",
      "Epoch 44/150\n",
      "27310/27310 [==============================] - 1s 28us/step - loss: 1.3595 - acc: 0.4179\n",
      "Epoch 45/150\n",
      "27310/27310 [==============================] - 1s 29us/step - loss: 1.3595 - acc: 0.4179\n",
      "Epoch 46/150\n",
      "27310/27310 [==============================] - 1s 29us/step - loss: 1.3595 - acc: 0.4179\n",
      "Epoch 47/150\n",
      "19552/27310 [====================>.........] - ETA: 0s - loss: 1.3619 - acc: 0.4197"
     ]
    },
    {
     "ename": "KeyboardInterrupt",
     "evalue": "",
     "output_type": "error",
     "traceback": [
      "\u001b[1;31m---------------------------------------------------------------------------\u001b[0m",
      "\u001b[1;31mKeyboardInterrupt\u001b[0m                         Traceback (most recent call last)",
      "\u001b[1;32m<ipython-input-119-a16a1659a547>\u001b[0m in \u001b[0;36m<module>\u001b[1;34m()\u001b[0m\n\u001b[0;32m      1\u001b[0m \u001b[0mmodel\u001b[0m \u001b[1;33m=\u001b[0m \u001b[0mbaseline_model\u001b[0m\u001b[1;33m(\u001b[0m\u001b[1;33m)\u001b[0m\u001b[1;33m\u001b[0m\u001b[0m\n\u001b[1;32m----> 2\u001b[1;33m \u001b[0mmodel\u001b[0m\u001b[1;33m.\u001b[0m\u001b[0mfit\u001b[0m\u001b[1;33m(\u001b[0m\u001b[0mX\u001b[0m\u001b[1;33m,\u001b[0m \u001b[0mdummy_y\u001b[0m\u001b[1;33m,\u001b[0m \u001b[0mepochs\u001b[0m\u001b[1;33m=\u001b[0m\u001b[1;36m150\u001b[0m\u001b[1;33m,\u001b[0m \u001b[0mbatch_size\u001b[0m\u001b[1;33m=\u001b[0m\u001b[1;36m32\u001b[0m\u001b[1;33m)\u001b[0m \u001b[1;31m#Attention aux paramètres, certains changement provoquent l'overfitting !\u001b[0m\u001b[1;33m\u001b[0m\u001b[0m\n\u001b[0m",
      "\u001b[1;32m~\\Anaconda3\\lib\\site-packages\\keras\\engine\\training.py\u001b[0m in \u001b[0;36mfit\u001b[1;34m(self, x, y, batch_size, epochs, verbose, callbacks, validation_split, validation_data, shuffle, class_weight, sample_weight, initial_epoch, steps_per_epoch, validation_steps, **kwargs)\u001b[0m\n\u001b[0;32m   1035\u001b[0m                                         \u001b[0minitial_epoch\u001b[0m\u001b[1;33m=\u001b[0m\u001b[0minitial_epoch\u001b[0m\u001b[1;33m,\u001b[0m\u001b[1;33m\u001b[0m\u001b[0m\n\u001b[0;32m   1036\u001b[0m                                         \u001b[0msteps_per_epoch\u001b[0m\u001b[1;33m=\u001b[0m\u001b[0msteps_per_epoch\u001b[0m\u001b[1;33m,\u001b[0m\u001b[1;33m\u001b[0m\u001b[0m\n\u001b[1;32m-> 1037\u001b[1;33m                                         validation_steps=validation_steps)\n\u001b[0m\u001b[0;32m   1038\u001b[0m \u001b[1;33m\u001b[0m\u001b[0m\n\u001b[0;32m   1039\u001b[0m     def evaluate(self, x=None, y=None,\n",
      "\u001b[1;32m~\\Anaconda3\\lib\\site-packages\\keras\\engine\\training_arrays.py\u001b[0m in \u001b[0;36mfit_loop\u001b[1;34m(model, f, ins, out_labels, batch_size, epochs, verbose, callbacks, val_f, val_ins, shuffle, callback_metrics, initial_epoch, steps_per_epoch, validation_steps)\u001b[0m\n\u001b[0;32m    197\u001b[0m                     \u001b[0mins_batch\u001b[0m\u001b[1;33m[\u001b[0m\u001b[0mi\u001b[0m\u001b[1;33m]\u001b[0m \u001b[1;33m=\u001b[0m \u001b[0mins_batch\u001b[0m\u001b[1;33m[\u001b[0m\u001b[0mi\u001b[0m\u001b[1;33m]\u001b[0m\u001b[1;33m.\u001b[0m\u001b[0mtoarray\u001b[0m\u001b[1;33m(\u001b[0m\u001b[1;33m)\u001b[0m\u001b[1;33m\u001b[0m\u001b[0m\n\u001b[0;32m    198\u001b[0m \u001b[1;33m\u001b[0m\u001b[0m\n\u001b[1;32m--> 199\u001b[1;33m                 \u001b[0mouts\u001b[0m \u001b[1;33m=\u001b[0m \u001b[0mf\u001b[0m\u001b[1;33m(\u001b[0m\u001b[0mins_batch\u001b[0m\u001b[1;33m)\u001b[0m\u001b[1;33m\u001b[0m\u001b[0m\n\u001b[0m\u001b[0;32m    200\u001b[0m                 \u001b[1;32mif\u001b[0m \u001b[1;32mnot\u001b[0m \u001b[0misinstance\u001b[0m\u001b[1;33m(\u001b[0m\u001b[0mouts\u001b[0m\u001b[1;33m,\u001b[0m \u001b[0mlist\u001b[0m\u001b[1;33m)\u001b[0m\u001b[1;33m:\u001b[0m\u001b[1;33m\u001b[0m\u001b[0m\n\u001b[0;32m    201\u001b[0m                     \u001b[0mouts\u001b[0m \u001b[1;33m=\u001b[0m \u001b[1;33m[\u001b[0m\u001b[0mouts\u001b[0m\u001b[1;33m]\u001b[0m\u001b[1;33m\u001b[0m\u001b[0m\n",
      "\u001b[1;32m~\\Anaconda3\\lib\\site-packages\\keras\\backend\\tensorflow_backend.py\u001b[0m in \u001b[0;36m__call__\u001b[1;34m(self, inputs)\u001b[0m\n\u001b[0;32m   2610\u001b[0m                 \u001b[1;32mreturn\u001b[0m \u001b[0mself\u001b[0m\u001b[1;33m.\u001b[0m\u001b[0m_legacy_call\u001b[0m\u001b[1;33m(\u001b[0m\u001b[0minputs\u001b[0m\u001b[1;33m)\u001b[0m\u001b[1;33m\u001b[0m\u001b[0m\n\u001b[0;32m   2611\u001b[0m \u001b[1;33m\u001b[0m\u001b[0m\n\u001b[1;32m-> 2612\u001b[1;33m             \u001b[1;32mreturn\u001b[0m \u001b[0mself\u001b[0m\u001b[1;33m.\u001b[0m\u001b[0m_call\u001b[0m\u001b[1;33m(\u001b[0m\u001b[0minputs\u001b[0m\u001b[1;33m)\u001b[0m\u001b[1;33m\u001b[0m\u001b[0m\n\u001b[0m\u001b[0;32m   2613\u001b[0m         \u001b[1;32melse\u001b[0m\u001b[1;33m:\u001b[0m\u001b[1;33m\u001b[0m\u001b[0m\n\u001b[0;32m   2614\u001b[0m             \u001b[1;32mif\u001b[0m \u001b[0mpy_any\u001b[0m\u001b[1;33m(\u001b[0m\u001b[0mis_tensor\u001b[0m\u001b[1;33m(\u001b[0m\u001b[0mx\u001b[0m\u001b[1;33m)\u001b[0m \u001b[1;32mfor\u001b[0m \u001b[0mx\u001b[0m \u001b[1;32min\u001b[0m \u001b[0minputs\u001b[0m\u001b[1;33m)\u001b[0m\u001b[1;33m:\u001b[0m\u001b[1;33m\u001b[0m\u001b[0m\n",
      "\u001b[1;32m~\\Anaconda3\\lib\\site-packages\\keras\\backend\\tensorflow_backend.py\u001b[0m in \u001b[0;36m_call\u001b[1;34m(self, inputs)\u001b[0m\n\u001b[0;32m   2580\u001b[0m                                 \u001b[0msymbol_vals\u001b[0m\u001b[1;33m,\u001b[0m\u001b[1;33m\u001b[0m\u001b[0m\n\u001b[0;32m   2581\u001b[0m                                 session)\n\u001b[1;32m-> 2582\u001b[1;33m         \u001b[0mfetched\u001b[0m \u001b[1;33m=\u001b[0m \u001b[0mself\u001b[0m\u001b[1;33m.\u001b[0m\u001b[0m_callable_fn\u001b[0m\u001b[1;33m(\u001b[0m\u001b[1;33m*\u001b[0m\u001b[0marray_vals\u001b[0m\u001b[1;33m)\u001b[0m\u001b[1;33m\u001b[0m\u001b[0m\n\u001b[0m\u001b[0;32m   2583\u001b[0m         \u001b[1;32mreturn\u001b[0m \u001b[0mfetched\u001b[0m\u001b[1;33m[\u001b[0m\u001b[1;33m:\u001b[0m\u001b[0mlen\u001b[0m\u001b[1;33m(\u001b[0m\u001b[0mself\u001b[0m\u001b[1;33m.\u001b[0m\u001b[0moutputs\u001b[0m\u001b[1;33m)\u001b[0m\u001b[1;33m]\u001b[0m\u001b[1;33m\u001b[0m\u001b[0m\n\u001b[0;32m   2584\u001b[0m \u001b[1;33m\u001b[0m\u001b[0m\n",
      "\u001b[1;32m~\\Anaconda3\\lib\\site-packages\\tensorflow\\python\\client\\session.py\u001b[0m in \u001b[0;36m__call__\u001b[1;34m(self, *args)\u001b[0m\n\u001b[0;32m   1449\u001b[0m         \u001b[1;32mif\u001b[0m \u001b[0mself\u001b[0m\u001b[1;33m.\u001b[0m\u001b[0m_session\u001b[0m\u001b[1;33m.\u001b[0m\u001b[0m_created_with_new_api\u001b[0m\u001b[1;33m:\u001b[0m\u001b[1;33m\u001b[0m\u001b[0m\n\u001b[0;32m   1450\u001b[0m           return tf_session.TF_SessionRunCallable(\n\u001b[1;32m-> 1451\u001b[1;33m               self._session._session, self._handle, args, status, None)\n\u001b[0m\u001b[0;32m   1452\u001b[0m         \u001b[1;32melse\u001b[0m\u001b[1;33m:\u001b[0m\u001b[1;33m\u001b[0m\u001b[0m\n\u001b[0;32m   1453\u001b[0m           return tf_session.TF_DeprecatedSessionRunCallable(\n",
      "\u001b[1;31mKeyboardInterrupt\u001b[0m: "
     ]
    }
   ],
   "source": [
    "model = baseline_model()\n",
    "model.fit(X, dummy_y, epochs=150, batch_size=24) #Attention aux paramètres, certains changement provoquent l'overfitting !"
   ]
  },
  {
   "cell_type": "code",
   "execution_count": 90,
   "metadata": {},
   "outputs": [
    {
     "name": "stdout",
     "output_type": "stream",
     "text": [
      "27310/27310 [==============================] - 1s 22us/step\n",
      "\n",
      "acc: 1.81%\n"
     ]
    }
   ],
   "source": [
    "# evaluate the model\n",
    "scores = model.evaluate(X, dummy_y)\n",
    "print(\"\\n%s: %.2f%%\" % (model.metrics_names[1], scores[1]*100))"
   ]
  },
  {
   "cell_type": "code",
   "execution_count": 86,
   "metadata": {},
   "outputs": [],
   "source": [
    "#predictions = model.predict(X)\n",
    "# round predictions\n",
    "#for x in predictions :\n",
    "#    print(x)\n",
    "#print(dummy_y)"
   ]
  },
  {
   "cell_type": "code",
   "execution_count": null,
   "metadata": {},
   "outputs": [],
   "source": []
  }
 ],
 "metadata": {
  "kernelspec": {
   "display_name": "Python 3",
   "language": "python",
   "name": "python3"
  },
  "language_info": {
   "codemirror_mode": {
    "name": "ipython",
    "version": 3
   },
   "file_extension": ".py",
   "mimetype": "text/x-python",
   "name": "python",
   "nbconvert_exporter": "python",
   "pygments_lexer": "ipython3",
   "version": "3.6.5"
  }
 },
 "nbformat": 4,
 "nbformat_minor": 2
}

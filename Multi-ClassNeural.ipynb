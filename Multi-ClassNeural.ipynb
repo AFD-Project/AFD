{
 "cells": [
  {
   "cell_type": "code",
   "execution_count": 1,
   "metadata": {},
   "outputs": [
    {
     "name": "stderr",
     "output_type": "stream",
     "text": [
      "C:\\Users\\Noctis\\Anaconda3\\lib\\site-packages\\h5py\\__init__.py:36: FutureWarning: Conversion of the second argument of issubdtype from `float` to `np.floating` is deprecated. In future, it will be treated as `np.float64 == np.dtype(float).type`.\n",
      "  from ._conv import register_converters as _register_converters\n",
      "Using TensorFlow backend.\n"
     ]
    }
   ],
   "source": [
    "import numpy\n",
    "import pandas\n",
    "from keras.models import Sequential\n",
    "from keras.layers import Dense\n",
    "from keras.wrappers.scikit_learn import KerasClassifier\n",
    "from keras.utils import np_utils\n",
    "from sklearn.model_selection import cross_val_score\n",
    "from sklearn.model_selection import KFold\n",
    "from sklearn.preprocessing import LabelEncoder\n",
    "from sklearn.pipeline import Pipeline\n",
    "from sklearn.preprocessing import StandardScaler\n",
    "from sklearn.model_selection import train_test_split\n",
    "\n"
   ]
  },
  {
   "cell_type": "code",
   "execution_count": 2,
   "metadata": {},
   "outputs": [],
   "source": [
    "seed = 7\n",
    "numpy.random.seed(seed)"
   ]
  },
  {
   "cell_type": "code",
   "execution_count": 3,
   "metadata": {},
   "outputs": [],
   "source": [
    "# load dataset\n",
    "dataframe = pandas.read_csv(\"DONNES/train_cap2018.csv\")\n",
    "dataset = dataframe.values\n",
    "\n",
    "X = dataframe.iloc[:,1:59]\n",
    "Y = dataframe.iloc[:,59]\n",
    "\n",
    "X, X_test, Y, y_test = train_test_split(X, Y, test_size=0.4, random_state=0)\n",
    "\n",
    "\n",
    "where_are_NaNs = numpy.isnan(X) #Remplace les valeurs NaN par des 0\n",
    "X[where_are_NaNs] = 0\n",
    "\n",
    "where_are_NaNs = numpy.isnan(X_test) #Remplace les valeurs NaN par des 0\n",
    "X_test[where_are_NaNs] = 0\n",
    "\n",
    "#print(X)\n",
    "\n",
    "#Normalisation \n",
    "\n",
    "scaler = StandardScaler()\n",
    "scaler.fit(X)\n",
    "StandardScaler(copy=True, with_mean=True, with_std=True)\n",
    "\n",
    "# Now apply the transformations to the data:\n",
    "X = scaler.transform(X)\n",
    "X_test = scaler.transform(X_test)\n",
    "\n",
    "#print(X)\n",
    "#print(Y)"
   ]
  },
  {
   "cell_type": "code",
   "execution_count": 4,
   "metadata": {},
   "outputs": [],
   "source": [
    "# encode class values as integers\n",
    "encoder = LabelEncoder()\n",
    "encoder.fit(Y)\n",
    "encoded_Y = encoder.transform(Y)\n",
    "\n",
    "# convert integers to dummy variables (i.e. one hot encoded)\n",
    "dummy_y = np_utils.to_categorical(encoded_Y)\n",
    "\n",
    "#print(encoded_Y)\n",
    "#list(encoder.inverse_transform(encoded_Y)) la démarche inverse"
   ]
  },
  {
   "cell_type": "code",
   "execution_count": 5,
   "metadata": {},
   "outputs": [],
   "source": [
    "def baseline_model():\n",
    "\t# create model\n",
    "\tmodel = Sequential()\n",
    "\tmodel.add(Dense(100, input_dim=58, kernel_initializer='normal', activation='relu'))\n",
    "\tmodel.add(Dense(500, activation='relu'))\n",
    "\tmodel.add(Dense(6, activation='softmax'))\n",
    "\t# Compile model\n",
    "\tmodel.compile(loss='categorical_crossentropy', optimizer='adam', metrics=['accuracy'])\n",
    "\treturn model"
   ]
  },
  {
   "cell_type": "code",
   "execution_count": 6,
   "metadata": {
    "scrolled": true
   },
   "outputs": [
    {
     "name": "stdout",
     "output_type": "stream",
     "text": [
      "Epoch 1/100\n",
      "16386/16386 [==============================] - 1s 48us/step - loss: 0.7315 - acc: 0.7145\n",
      "Epoch 2/100\n",
      "16386/16386 [==============================] - 1s 34us/step - loss: 0.5985 - acc: 0.7716\n",
      "Epoch 3/100\n",
      "16386/16386 [==============================] - 1s 34us/step - loss: 0.5660 - acc: 0.7841\n",
      "Epoch 4/100\n",
      "16386/16386 [==============================] - 1s 35us/step - loss: 0.5348 - acc: 0.7946\n",
      "Epoch 5/100\n",
      "16386/16386 [==============================] - 1s 35us/step - loss: 0.5135 - acc: 0.8017\n",
      "Epoch 6/100\n",
      "16386/16386 [==============================] - 1s 36us/step - loss: 0.4993 - acc: 0.8083\n",
      "Epoch 7/100\n",
      "16386/16386 [==============================] - 1s 35us/step - loss: 0.4840 - acc: 0.8150\n",
      "Epoch 8/100\n",
      "16386/16386 [==============================] - 1s 34us/step - loss: 0.4731 - acc: 0.8203\n",
      "Epoch 9/100\n",
      "16386/16386 [==============================] - 1s 34us/step - loss: 0.4609 - acc: 0.8217\n",
      "Epoch 10/100\n",
      "16386/16386 [==============================] - 1s 34us/step - loss: 0.4546 - acc: 0.8258\n",
      "Epoch 11/100\n",
      "16386/16386 [==============================] - 1s 34us/step - loss: 0.4487 - acc: 0.8286\n",
      "Epoch 12/100\n",
      "16386/16386 [==============================] - 1s 36us/step - loss: 0.4390 - acc: 0.8324\n",
      "Epoch 13/100\n",
      "16386/16386 [==============================] - 1s 35us/step - loss: 0.4242 - acc: 0.8383\n",
      "Epoch 14/100\n",
      "16386/16386 [==============================] - 1s 34us/step - loss: 0.4205 - acc: 0.8393\n",
      "Epoch 15/100\n",
      "16386/16386 [==============================] - 1s 34us/step - loss: 0.4110 - acc: 0.8404\n",
      "Epoch 16/100\n",
      "16386/16386 [==============================] - 1s 35us/step - loss: 0.4008 - acc: 0.8451\n",
      "Epoch 17/100\n",
      "16386/16386 [==============================] - 1s 36us/step - loss: 0.3956 - acc: 0.8461\n",
      "Epoch 18/100\n",
      "16386/16386 [==============================] - 1s 36us/step - loss: 0.3863 - acc: 0.8518\n",
      "Epoch 19/100\n",
      "16386/16386 [==============================] - 1s 34us/step - loss: 0.3789 - acc: 0.8530\n",
      "Epoch 20/100\n",
      "16386/16386 [==============================] - 1s 36us/step - loss: 0.3717 - acc: 0.8560\n",
      "Epoch 21/100\n",
      "16386/16386 [==============================] - 1s 34us/step - loss: 0.3615 - acc: 0.8585\n",
      "Epoch 22/100\n",
      "16386/16386 [==============================] - 1s 34us/step - loss: 0.3581 - acc: 0.8615\n",
      "Epoch 23/100\n",
      "16386/16386 [==============================] - 1s 36us/step - loss: 0.3535 - acc: 0.8645\n",
      "Epoch 24/100\n",
      "16386/16386 [==============================] - 1s 36us/step - loss: 0.3409 - acc: 0.8679\n",
      "Epoch 25/100\n",
      "16386/16386 [==============================] - 1s 36us/step - loss: 0.3291 - acc: 0.8713\n",
      "Epoch 26/100\n",
      "16386/16386 [==============================] - 1s 34us/step - loss: 0.3224 - acc: 0.8718\n",
      "Epoch 27/100\n",
      "16386/16386 [==============================] - 1s 34us/step - loss: 0.3153 - acc: 0.8772\n",
      "Epoch 28/100\n",
      "16386/16386 [==============================] - 1s 35us/step - loss: 0.3180 - acc: 0.8776\n",
      "Epoch 29/100\n",
      "16386/16386 [==============================] - 1s 38us/step - loss: 0.2986 - acc: 0.8828\n",
      "Epoch 30/100\n",
      "16386/16386 [==============================] - 1s 37us/step - loss: 0.2920 - acc: 0.8891\n",
      "Epoch 31/100\n",
      "16386/16386 [==============================] - 1s 35us/step - loss: 0.2846 - acc: 0.8907\n",
      "Epoch 32/100\n",
      "16386/16386 [==============================] - 1s 36us/step - loss: 0.2777 - acc: 0.8933\n",
      "Epoch 33/100\n",
      "16386/16386 [==============================] - 1s 35us/step - loss: 0.2651 - acc: 0.8969\n",
      "Epoch 34/100\n",
      "16386/16386 [==============================] - 1s 36us/step - loss: 0.2587 - acc: 0.8981\n",
      "Epoch 35/100\n",
      "16386/16386 [==============================] - 1s 33us/step - loss: 0.2535 - acc: 0.9013\n",
      "Epoch 36/100\n",
      "16386/16386 [==============================] - 1s 33us/step - loss: 0.2444 - acc: 0.9072\n",
      "Epoch 37/100\n",
      "16386/16386 [==============================] - 1s 33us/step - loss: 0.2353 - acc: 0.9114\n",
      "Epoch 38/100\n",
      "16386/16386 [==============================] - 1s 33us/step - loss: 0.2272 - acc: 0.9117\n",
      "Epoch 39/100\n",
      "16386/16386 [==============================] - 1s 33us/step - loss: 0.2215 - acc: 0.9144\n",
      "Epoch 40/100\n",
      "16386/16386 [==============================] - 1s 33us/step - loss: 0.2131 - acc: 0.9199\n",
      "Epoch 41/100\n",
      "16386/16386 [==============================] - 1s 33us/step - loss: 0.2043 - acc: 0.9207\n",
      "Epoch 42/100\n",
      "16386/16386 [==============================] - 1s 33us/step - loss: 0.2010 - acc: 0.9230\n",
      "Epoch 43/100\n",
      "16386/16386 [==============================] - 1s 33us/step - loss: 0.1873 - acc: 0.9294\n",
      "Epoch 44/100\n",
      "16386/16386 [==============================] - 1s 38us/step - loss: 0.1838 - acc: 0.9301\n",
      "Epoch 45/100\n",
      "16386/16386 [==============================] - 1s 35us/step - loss: 0.1797 - acc: 0.9313\n",
      "Epoch 46/100\n",
      "16386/16386 [==============================] - 1s 36us/step - loss: 0.1725 - acc: 0.9330\n",
      "Epoch 47/100\n",
      "16386/16386 [==============================] - 1s 37us/step - loss: 0.1690 - acc: 0.9346\n",
      "Epoch 48/100\n",
      "16386/16386 [==============================] - 1s 36us/step - loss: 0.1521 - acc: 0.9439\n",
      "Epoch 49/100\n",
      "16386/16386 [==============================] - 1s 37us/step - loss: 0.1584 - acc: 0.9411\n",
      "Epoch 50/100\n",
      "16386/16386 [==============================] - 1s 36us/step - loss: 0.1402 - acc: 0.9516\n",
      "Epoch 51/100\n",
      "16386/16386 [==============================] - 1s 35us/step - loss: 0.1455 - acc: 0.9468\n",
      "Epoch 52/100\n",
      "16386/16386 [==============================] - 1s 34us/step - loss: 0.1377 - acc: 0.9500\n",
      "Epoch 53/100\n",
      "16386/16386 [==============================] - 1s 35us/step - loss: 0.1174 - acc: 0.9589\n",
      "Epoch 54/100\n",
      "16386/16386 [==============================] - 1s 35us/step - loss: 0.1271 - acc: 0.9531\n",
      "Epoch 55/100\n",
      "16386/16386 [==============================] - 1s 36us/step - loss: 0.1160 - acc: 0.9584\n",
      "Epoch 56/100\n",
      "16386/16386 [==============================] - 1s 34us/step - loss: 0.1149 - acc: 0.9579\n",
      "Epoch 57/100\n",
      "16386/16386 [==============================] - 1s 35us/step - loss: 0.1102 - acc: 0.9595\n",
      "Epoch 58/100\n",
      "16386/16386 [==============================] - 1s 34us/step - loss: 0.1034 - acc: 0.9643\n",
      "Epoch 59/100\n",
      "16386/16386 [==============================] - 1s 34us/step - loss: 0.1018 - acc: 0.9640\n",
      "Epoch 60/100\n",
      "16386/16386 [==============================] - 1s 36us/step - loss: 0.0966 - acc: 0.9667\n",
      "Epoch 61/100\n",
      "16386/16386 [==============================] - 1s 35us/step - loss: 0.0985 - acc: 0.9647\n",
      "Epoch 62/100\n",
      "16386/16386 [==============================] - 1s 35us/step - loss: 0.1108 - acc: 0.9606\n",
      "Epoch 63/100\n",
      "16386/16386 [==============================] - 1s 35us/step - loss: 0.0893 - acc: 0.9702\n",
      "Epoch 64/100\n",
      "16386/16386 [==============================] - 1s 37us/step - loss: 0.0739 - acc: 0.9747\n",
      "Epoch 65/100\n",
      "16386/16386 [==============================] - 1s 37us/step - loss: 0.0786 - acc: 0.9735\n",
      "Epoch 66/100\n",
      "16386/16386 [==============================] - 1s 35us/step - loss: 0.0840 - acc: 0.9720\n",
      "Epoch 67/100\n",
      "16386/16386 [==============================] - 1s 35us/step - loss: 0.0757 - acc: 0.9762\n",
      "Epoch 68/100\n",
      "16386/16386 [==============================] - 1s 35us/step - loss: 0.0974 - acc: 0.9656\n",
      "Epoch 69/100\n",
      "16386/16386 [==============================] - 1s 36us/step - loss: 0.0693 - acc: 0.9767\n",
      "Epoch 70/100\n",
      "16386/16386 [==============================] - 1s 38us/step - loss: 0.0547 - acc: 0.9832\n",
      "Epoch 71/100\n",
      "16386/16386 [==============================] - 1s 37us/step - loss: 0.0702 - acc: 0.9768\n",
      "Epoch 72/100\n",
      "16386/16386 [==============================] - 1s 36us/step - loss: 0.0772 - acc: 0.9729\n",
      "Epoch 73/100\n",
      "16386/16386 [==============================] - 1s 35us/step - loss: 0.0683 - acc: 0.9766\n",
      "Epoch 74/100\n",
      "16386/16386 [==============================] - 1s 34us/step - loss: 0.0622 - acc: 0.9797\n",
      "Epoch 75/100\n",
      "16386/16386 [==============================] - 1s 37us/step - loss: 0.0590 - acc: 0.9821\n",
      "Epoch 76/100\n",
      "16386/16386 [==============================] - 1s 36us/step - loss: 0.0488 - acc: 0.9848\n",
      "Epoch 77/100\n",
      "16386/16386 [==============================] - 1s 37us/step - loss: 0.0654 - acc: 0.9772\n",
      "Epoch 78/100\n",
      "16386/16386 [==============================] - 1s 37us/step - loss: 0.0590 - acc: 0.9802\n",
      "Epoch 79/100\n",
      "16386/16386 [==============================] - 1s 36us/step - loss: 0.0521 - acc: 0.9830\n",
      "Epoch 80/100\n",
      "16386/16386 [==============================] - 1s 40us/step - loss: 0.0597 - acc: 0.9803\n",
      "Epoch 81/100\n"
     ]
    },
    {
     "name": "stdout",
     "output_type": "stream",
     "text": [
      "16386/16386 [==============================] - 1s 36us/step - loss: 0.0376 - acc: 0.9893\n",
      "Epoch 82/100\n",
      "16386/16386 [==============================] - 1s 37us/step - loss: 0.0758 - acc: 0.9743\n",
      "Epoch 83/100\n",
      "16386/16386 [==============================] - 1s 35us/step - loss: 0.0652 - acc: 0.9789\n",
      "Epoch 84/100\n",
      "16386/16386 [==============================] - 1s 33us/step - loss: 0.0453 - acc: 0.9857\n",
      "Epoch 85/100\n",
      "16386/16386 [==============================] - 1s 33us/step - loss: 0.0217 - acc: 0.9946\n",
      "Epoch 86/100\n",
      "16386/16386 [==============================] - 1s 34us/step - loss: 0.0694 - acc: 0.9755\n",
      "Epoch 87/100\n",
      "16386/16386 [==============================] - 1s 33us/step - loss: 0.0669 - acc: 0.9767\n",
      "Epoch 88/100\n",
      "16386/16386 [==============================] - 1s 33us/step - loss: 0.0458 - acc: 0.9852\n",
      "Epoch 89/100\n",
      "16386/16386 [==============================] - 1s 33us/step - loss: 0.0237 - acc: 0.9946\n",
      "Epoch 90/100\n",
      "16386/16386 [==============================] - 1s 33us/step - loss: 0.0220 - acc: 0.9942\n",
      "Epoch 91/100\n",
      "16386/16386 [==============================] - 1s 34us/step - loss: 0.0928 - acc: 0.9694\n",
      "Epoch 92/100\n",
      "16386/16386 [==============================] - 1s 34us/step - loss: 0.0492 - acc: 0.9844\n",
      "Epoch 93/100\n",
      "16386/16386 [==============================] - 1s 33us/step - loss: 0.0292 - acc: 0.9916\n",
      "Epoch 94/100\n",
      "16386/16386 [==============================] - 1s 33us/step - loss: 0.0385 - acc: 0.9885\n",
      "Epoch 95/100\n",
      "16386/16386 [==============================] - 1s 33us/step - loss: 0.0559 - acc: 0.9798\n",
      "Epoch 96/100\n",
      "16386/16386 [==============================] - 1s 33us/step - loss: 0.0332 - acc: 0.9897\n",
      "Epoch 97/100\n",
      "16386/16386 [==============================] - 1s 34us/step - loss: 0.0414 - acc: 0.9867\n",
      "Epoch 98/100\n",
      "16386/16386 [==============================] - 1s 33us/step - loss: 0.0697 - acc: 0.9767\n",
      "Epoch 99/100\n",
      "16386/16386 [==============================] - 1s 33us/step - loss: 0.0260 - acc: 0.9932\n",
      "Epoch 100/100\n",
      "16386/16386 [==============================] - 1s 33us/step - loss: 0.0557 - acc: 0.9822\n"
     ]
    },
    {
     "data": {
      "text/plain": [
       "<keras.callbacks.History at 0x2b816f82f98>"
      ]
     },
     "execution_count": 6,
     "metadata": {},
     "output_type": "execute_result"
    }
   ],
   "source": [
    "model = baseline_model()\n",
    "model.fit(X, dummy_y, epochs=100, batch_size=32) #Attention aux paramètres, certains changement provoquent l'overfitting !"
   ]
  },
  {
   "cell_type": "code",
   "execution_count": 7,
   "metadata": {},
   "outputs": [
    {
     "name": "stdout",
     "output_type": "stream",
     "text": [
      "16386/16386 [==============================] - 0s 16us/step\n",
      "\n",
      "loss: 5.04%\n",
      "\n",
      "acc: 98.29%\n"
     ]
    }
   ],
   "source": [
    "# evaluate the model\n",
    "scores = model.evaluate(X, dummy_y)\n",
    "print(\"\\n%s: %.2f%%\" % (model.metrics_names[0], scores[0]*100))\n",
    "print(\"\\n%s: %.2f%%\" % (model.metrics_names[1], scores[1]*100))\n"
   ]
  },
  {
   "cell_type": "code",
   "execution_count": 8,
   "metadata": {},
   "outputs": [],
   "source": [
    "def counter(attr) :\n",
    "    unique, counts = numpy.unique(attr, return_counts=True)\n",
    "    return dict(zip(unique, counts))"
   ]
  },
  {
   "cell_type": "code",
   "execution_count": 9,
   "metadata": {},
   "outputs": [
    {
     "name": "stdout",
     "output_type": "stream",
     "text": [
      "['A2' 'B1' 'A1' ... 'A1' 'B1' 'A2']\n"
     ]
    },
    {
     "name": "stderr",
     "output_type": "stream",
     "text": [
      "C:\\Users\\Noctis\\Anaconda3\\lib\\site-packages\\sklearn\\preprocessing\\label.py:151: DeprecationWarning: The truth value of an empty array is ambiguous. Returning False, but in future this will result in an error. Use `array.size > 0` to check that an array is not empty.\n",
      "  if diff:\n"
     ]
    }
   ],
   "source": [
    "#predictions = model.predict(X)\n",
    "predictions = model.predict_classes(X_test)\n",
    "classes = encoder.inverse_transform(predictions)\n",
    "\n",
    "print(classes)\n"
   ]
  },
  {
   "cell_type": "code",
   "execution_count": 12,
   "metadata": {},
   "outputs": [
    {
     "name": "stdout",
     "output_type": "stream",
     "text": [
      "<class 'numpy.ndarray'>\n"
     ]
    },
    {
     "data": {
      "image/png": "[encoded data removed]",
      "text/plain": [
       "<Figure size 432x288 with 1 Axes>"
      ]
     },
     "metadata": {},
     "output_type": "display_data"
    },
    {
     "data": {
      "text/plain": [
       "{'A1': 4375, 'A2': 3268, 'B1': 2222, 'B2': 755, 'C1': 287, 'C2': 17}"
      ]
     },
     "execution_count": 12,
     "metadata": {},
     "output_type": "execute_result"
    }
   ],
   "source": [
    "import seaborn as sns\n",
    "import matplotlib.pyplot as plt\n",
    "\n",
    "print(type(classes))\n",
    "#rclasses = classes[::-1]\n",
    "\n",
    "sns.countplot(classes,label=\"Count\")\n",
    "plt.show()\n",
    "\n",
    "\n",
    "counter(classes)\n"
   ]
  },
  {
   "cell_type": "code",
   "execution_count": 11,
   "metadata": {},
   "outputs": [
    {
     "data": {
      "image/png": "[encoded data removed]",
      "text/plain": [
       "<Figure size 432x288 with 1 Axes>"
      ]
     },
     "metadata": {},
     "output_type": "display_data"
    },
    {
     "data": {
      "text/plain": [
       "{'A1': 4543, 'A2': 3072, 'B1': 2137, 'B2': 955, 'C1': 195, 'C2': 22}"
      ]
     },
     "execution_count": 11,
     "metadata": {},
     "output_type": "execute_result"
    }
   ],
   "source": [
    "sns.countplot(y_test,label=\"Count\")\n",
    "plt.show()\n",
    "\n",
    "  \n",
    "counter(y_test)"
   ]
  },
  {
   "cell_type": "code",
   "execution_count": 34,
   "metadata": {},
   "outputs": [],
   "source": [
    "#Maintenant qu'on a construit, entrainé et testé sur les données \"train\" notre réseau\n",
    "#Il nous faut l'utiliser sur des données non étiquettées\n",
    "#Ce sont les données dans le fichier test.csv"
   ]
  },
  {
   "cell_type": "code",
   "execution_count": 68,
   "metadata": {},
   "outputs": [
    {
     "name": "stdout",
     "output_type": "stream",
     "text": [
      "[[  1.    39.   142.   ...   0.82  29.47 105.19]\n",
      " [  7.    42.   182.   ...   0.74  19.98 260.77]\n",
      " [  9.    86.   299.   ...   0.62  17.8  164.95]\n",
      " ...\n",
      " [  1.   110.   425.   ...   0.66  23.4  109.09]\n",
      " [  2.    26.   118.   ...   0.88  37.6   88.76]\n",
      " [ 10.    68.   288.   ...   0.66  18.73 259.52]]\n"
     ]
    }
   ],
   "source": [
    "df = pandas.read_csv(\"DONNES/test_cap2018.csv\")\n",
    "don =  df.iloc[:,1:59]\n",
    "\n",
    "\n",
    "\n",
    "#Normalisation des données : \n",
    "\n",
    "\n",
    "\n",
    "where_are_NaNs = numpy.isnan(don) #Remplace les valeurs NaN par des 0\n",
    "don[where_are_NaNs] = 0\n",
    "\n",
    "#Normalisation \n",
    "\n",
    "scaler = StandardScaler()\n",
    "scaler.fit(X)\n",
    "StandardScaler(copy=True, with_mean=True, with_std=True)\n",
    "\n",
    "# Now apply the transformations to the data:\n",
    "don = scaler.transform(don)\n",
    "\n"
   ]
  },
  {
   "cell_type": "code",
   "execution_count": null,
   "metadata": {},
   "outputs": [],
   "source": []
  }
 ],
 "metadata": {
  "kernelspec": {
   "display_name": "Python 3",
   "language": "python",
   "name": "python3"
  },
  "language_info": {
   "codemirror_mode": {
    "name": "ipython",
    "version": 3
   },
   "file_extension": ".py",
   "mimetype": "text/x-python",
   "name": "python",
   "nbconvert_exporter": "python",
   "pygments_lexer": "ipython3",
   "version": "3.6.5"
  }
 },
 "nbformat": 4,
 "nbformat_minor": 2
}

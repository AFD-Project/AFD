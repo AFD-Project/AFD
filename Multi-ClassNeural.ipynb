{
 "cells": [
  {
   "cell_type": "code",
   "execution_count": 117,
   "metadata": {},
   "outputs": [],
   "source": [
    "import numpy\n",
    "import pandas\n",
    "from keras.models import Sequential\n",
    "from keras.layers import Dense\n",
    "from keras.wrappers.scikit_learn import KerasClassifier\n",
    "from keras.utils import np_utils\n",
    "from sklearn.model_selection import cross_val_score\n",
    "from sklearn.model_selection import KFold\n",
    "from sklearn.preprocessing import LabelEncoder\n",
    "from sklearn.pipeline import Pipeline\n",
    "from sklearn.preprocessing import StandardScaler\n",
    "from sklearn.model_selection import train_test_split\n",
    "\n"
   ]
  },
  {
   "cell_type": "code",
   "execution_count": 118,
   "metadata": {},
   "outputs": [],
   "source": [
    "# fix random seed for reproducibility\n",
    "seed = 7\n",
    "numpy.random.seed(seed)"
   ]
  },
  {
   "cell_type": "code",
   "execution_count": 121,
   "metadata": {},
   "outputs": [],
   "source": [
    "# load dataset\n",
    "dataframe = pandas.read_csv(\"DONNES/train_cap2018.csv\")\n",
    "dataset = dataframe.values\n",
    "\n",
    "X = dataframe.iloc[:,1:59]\n",
    "Y = dataframe.iloc[:,59]\n",
    "\n",
    "X, X_test, Y, y_test = train_test_split(X, Y, random_state=0)\n",
    "\n",
    "\n",
    "where_are_NaNs = numpy.isnan(X) #Remplace les valeurs NaN par des 0\n",
    "X[where_are_NaNs] = 0\n",
    "\n",
    "where_are_NaNs = numpy.isnan(X_test) #Remplace les valeurs NaN par des 0\n",
    "X_test[where_are_NaNs] = 0\n",
    "\n",
    "#print(X)\n",
    "\n",
    "#Normalisation \n",
    "\n",
    "scaler = StandardScaler()\n",
    "scaler.fit(X)\n",
    "StandardScaler(copy=True, with_mean=True, with_std=True)\n",
    "\n",
    "# Now apply the transformations to the data:\n",
    "X = scaler.transform(X)\n",
    "X_test = scaler.transform(X_test)\n",
    "\n",
    "#print(X)\n",
    "#print(Y)"
   ]
  },
  {
   "cell_type": "code",
   "execution_count": 122,
   "metadata": {},
   "outputs": [],
   "source": [
    "# encode class values as integers\n",
    "encoder = LabelEncoder()\n",
    "encoder.fit(Y)\n",
    "encoded_Y = encoder.transform(Y)\n",
    "\n",
    "# convert integers to dummy variables (i.e. one hot encoded)\n",
    "dummy_y = np_utils.to_categorical(encoded_Y)\n",
    "\n",
    "#print(encoded_Y)\n",
    "#list(encoder.inverse_transform(encoded_Y)) la démarche inverse"
   ]
  },
  {
   "cell_type": "code",
   "execution_count": 151,
   "metadata": {},
   "outputs": [],
   "source": [
    "def baseline_model():\n",
    "\t# create model\n",
    "\tmodel = Sequential()\n",
    "\tmodel.add(Dense(100, input_dim=58, kernel_initializer='normal', activation='relu'))\n",
    "\tmodel.add(Dense(500, activation='relu'))\n",
    "\tmodel.add(Dense(6, activation='softmax'))\n",
    "\t# Compile model\n",
    "\tmodel.compile(loss='categorical_crossentropy', optimizer='adam', metrics=['accuracy'])\n",
    "\treturn model"
   ]
  },
  {
   "cell_type": "code",
   "execution_count": 152,
   "metadata": {
    "scrolled": true
   },
   "outputs": [
    {
     "name": "stdout",
     "output_type": "stream",
     "text": [
      "Epoch 1/100\n",
      "20482/20482 [==============================] - 1s 67us/step - loss: 0.7039 - acc: 0.7293\n",
      "Epoch 2/100\n",
      "20482/20482 [==============================] - 1s 43us/step - loss: 0.5826 - acc: 0.7770\n",
      "Epoch 3/100\n",
      "20482/20482 [==============================] - 1s 46us/step - loss: 0.5470 - acc: 0.7924\n",
      "Epoch 4/100\n",
      "20482/20482 [==============================] - 1s 45us/step - loss: 0.5206 - acc: 0.8007\n",
      "Epoch 5/100\n",
      "20482/20482 [==============================] - 1s 47us/step - loss: 0.5036 - acc: 0.8081\n",
      "Epoch 6/100\n",
      "20482/20482 [==============================] - 1s 45us/step - loss: 0.4875 - acc: 0.8148\n",
      "Epoch 7/100\n",
      "20482/20482 [==============================] - 1s 45us/step - loss: 0.4771 - acc: 0.8209\n",
      "Epoch 8/100\n",
      "20482/20482 [==============================] - 1s 45us/step - loss: 0.4641 - acc: 0.8246\n",
      "Epoch 9/100\n",
      "20482/20482 [==============================] - 1s 46us/step - loss: 0.4536 - acc: 0.8259\n",
      "Epoch 10/100\n",
      "20482/20482 [==============================] - 1s 46us/step - loss: 0.4512 - acc: 0.8280\n",
      "Epoch 11/100\n",
      "20482/20482 [==============================] - 1s 47us/step - loss: 0.4346 - acc: 0.8329\n",
      "Epoch 12/100\n",
      "20482/20482 [==============================] - 1s 48us/step - loss: 0.4261 - acc: 0.8368\n",
      "Epoch 13/100\n",
      "20482/20482 [==============================] - 1s 47us/step - loss: 0.4186 - acc: 0.8413\n",
      "Epoch 14/100\n",
      "20482/20482 [==============================] - 1s 51us/step - loss: 0.4110 - acc: 0.8408\n",
      "Epoch 15/100\n",
      "20482/20482 [==============================] - 1s 48us/step - loss: 0.4035 - acc: 0.8444\n",
      "Epoch 16/100\n",
      "20482/20482 [==============================] - 1s 51us/step - loss: 0.3939 - acc: 0.8482\n",
      "Epoch 17/100\n",
      "20482/20482 [==============================] - 1s 46us/step - loss: 0.3886 - acc: 0.8513\n",
      "Epoch 18/100\n",
      "20482/20482 [==============================] - 1s 46us/step - loss: 0.3797 - acc: 0.8538\n",
      "Epoch 19/100\n",
      "20482/20482 [==============================] - 1s 47us/step - loss: 0.3712 - acc: 0.8568\n",
      "Epoch 20/100\n",
      "20482/20482 [==============================] - 1s 55us/step - loss: 0.3676 - acc: 0.8588\n",
      "Epoch 21/100\n",
      "20482/20482 [==============================] - 1s 51us/step - loss: 0.3568 - acc: 0.8641\n",
      "Epoch 22/100\n",
      "20482/20482 [==============================] - 1s 47us/step - loss: 0.3527 - acc: 0.8646\n",
      "Epoch 23/100\n",
      "20482/20482 [==============================] - 1s 44us/step - loss: 0.3507 - acc: 0.8654\n",
      "Epoch 24/100\n",
      "20482/20482 [==============================] - 1s 53us/step - loss: 0.3346 - acc: 0.8690\n",
      "Epoch 25/100\n",
      "20482/20482 [==============================] - 1s 43us/step - loss: 0.3237 - acc: 0.8753\n",
      "Epoch 26/100\n",
      "20482/20482 [==============================] - 1s 44us/step - loss: 0.3176 - acc: 0.8754\n",
      "Epoch 27/100\n",
      "20482/20482 [==============================] - 1s 41us/step - loss: 0.3096 - acc: 0.8801\n",
      "Epoch 28/100\n",
      "20482/20482 [==============================] - 1s 46us/step - loss: 0.3020 - acc: 0.8825\n",
      "Epoch 29/100\n",
      "20482/20482 [==============================] - 1s 44us/step - loss: 0.2967 - acc: 0.8844\n",
      "Epoch 30/100\n",
      "20482/20482 [==============================] - 1s 45us/step - loss: 0.2876 - acc: 0.8884\n",
      "Epoch 31/100\n",
      "20482/20482 [==============================] - 1s 43us/step - loss: 0.2776 - acc: 0.8931\n",
      "Epoch 32/100\n",
      "20482/20482 [==============================] - 1s 47us/step - loss: 0.2700 - acc: 0.8973\n",
      "Epoch 33/100\n",
      "20482/20482 [==============================] - 1s 43us/step - loss: 0.2623 - acc: 0.8997\n",
      "Epoch 34/100\n",
      "20482/20482 [==============================] - 1s 44us/step - loss: 0.2567 - acc: 0.9006\n",
      "Epoch 35/100\n",
      "20482/20482 [==============================] - 1s 44us/step - loss: 0.2523 - acc: 0.9033\n",
      "Epoch 36/100\n",
      "20482/20482 [==============================] - 1s 44us/step - loss: 0.2400 - acc: 0.9078\n",
      "Epoch 37/100\n",
      "20482/20482 [==============================] - 1s 43us/step - loss: 0.2285 - acc: 0.9129\n",
      "Epoch 38/100\n",
      "20482/20482 [==============================] - 1s 43us/step - loss: 0.2245 - acc: 0.9143\n",
      "Epoch 39/100\n",
      "20482/20482 [==============================] - 1s 47us/step - loss: 0.2144 - acc: 0.9183\n",
      "Epoch 40/100\n",
      "20482/20482 [==============================] - 1s 52us/step - loss: 0.2080 - acc: 0.9196\n",
      "Epoch 41/100\n",
      "20482/20482 [==============================] - 1s 44us/step - loss: 0.2121 - acc: 0.9190\n",
      "Epoch 42/100\n",
      "20482/20482 [==============================] - 1s 44us/step - loss: 0.1974 - acc: 0.9258\n",
      "Epoch 43/100\n",
      "20482/20482 [==============================] - 1s 44us/step - loss: 0.1894 - acc: 0.9280\n",
      "Epoch 44/100\n",
      "20482/20482 [==============================] - 1s 43us/step - loss: 0.1806 - acc: 0.9334\n",
      "Epoch 45/100\n",
      "20482/20482 [==============================] - 1s 44us/step - loss: 0.1773 - acc: 0.9319\n",
      "Epoch 46/100\n",
      "20482/20482 [==============================] - 1s 45us/step - loss: 0.1635 - acc: 0.9386\n",
      "Epoch 47/100\n",
      "20482/20482 [==============================] - 1s 44us/step - loss: 0.1681 - acc: 0.9370\n",
      "Epoch 48/100\n",
      "20482/20482 [==============================] - 1s 44us/step - loss: 0.1555 - acc: 0.9439\n",
      "Epoch 49/100\n",
      "20482/20482 [==============================] - 1s 45us/step - loss: 0.1550 - acc: 0.9415\n",
      "Epoch 50/100\n",
      "20482/20482 [==============================] - 1s 44us/step - loss: 0.1476 - acc: 0.9464\n",
      "Epoch 51/100\n",
      "20482/20482 [==============================] - 1s 44us/step - loss: 0.1375 - acc: 0.9498\n",
      "Epoch 52/100\n",
      "20482/20482 [==============================] - 1s 43us/step - loss: 0.1349 - acc: 0.9507\n",
      "Epoch 53/100\n",
      "20482/20482 [==============================] - 1s 45us/step - loss: 0.1377 - acc: 0.9510\n",
      "Epoch 54/100\n",
      "20482/20482 [==============================] - 1s 44us/step - loss: 0.1302 - acc: 0.9509\n",
      "Epoch 55/100\n",
      "20482/20482 [==============================] - 1s 43us/step - loss: 0.1197 - acc: 0.9552\n",
      "Epoch 56/100\n",
      "20482/20482 [==============================] - 1s 44us/step - loss: 0.1132 - acc: 0.9584\n",
      "Epoch 57/100\n",
      "20482/20482 [==============================] - 1s 44us/step - loss: 0.1128 - acc: 0.9585\n",
      "Epoch 58/100\n",
      "20482/20482 [==============================] - 1s 46us/step - loss: 0.1106 - acc: 0.9604\n",
      "Epoch 59/100\n",
      "20482/20482 [==============================] - 1s 45us/step - loss: 0.1140 - acc: 0.9587\n",
      "Epoch 60/100\n",
      "20482/20482 [==============================] - 1s 44us/step - loss: 0.1014 - acc: 0.9630\n",
      "Epoch 61/100\n",
      "20482/20482 [==============================] - 1s 44us/step - loss: 0.0941 - acc: 0.9659\n",
      "Epoch 62/100\n",
      "20482/20482 [==============================] - 1s 43us/step - loss: 0.1134 - acc: 0.9596\n",
      "Epoch 63/100\n",
      "20482/20482 [==============================] - 1s 44us/step - loss: 0.0854 - acc: 0.9721\n",
      "Epoch 64/100\n",
      "20482/20482 [==============================] - 1s 43us/step - loss: 0.0873 - acc: 0.9687\n",
      "Epoch 65/100\n",
      "20482/20482 [==============================] - 1s 44us/step - loss: 0.0970 - acc: 0.9657\n",
      "Epoch 66/100\n",
      "20482/20482 [==============================] - 1s 44us/step - loss: 0.0803 - acc: 0.9722\n",
      "Epoch 67/100\n",
      "20482/20482 [==============================] - 1s 45us/step - loss: 0.0918 - acc: 0.9678\n",
      "Epoch 68/100\n",
      "20482/20482 [==============================] - 1s 47us/step - loss: 0.0833 - acc: 0.9725\n",
      "Epoch 69/100\n",
      "20482/20482 [==============================] - 1s 47us/step - loss: 0.0674 - acc: 0.9767\n",
      "Epoch 70/100\n",
      "20482/20482 [==============================] - 1s 46us/step - loss: 0.0882 - acc: 0.9698\n",
      "Epoch 71/100\n",
      "20482/20482 [==============================] - 1s 46us/step - loss: 0.0735 - acc: 0.9737\n",
      "Epoch 72/100\n",
      "20482/20482 [==============================] - 1s 47us/step - loss: 0.0740 - acc: 0.9751\n",
      "Epoch 73/100\n",
      "20482/20482 [==============================] - 1s 48us/step - loss: 0.0665 - acc: 0.9775\n",
      "Epoch 74/100\n",
      "20482/20482 [==============================] - 1s 46us/step - loss: 0.0651 - acc: 0.9781\n",
      "Epoch 75/100\n",
      "20482/20482 [==============================] - 1s 46us/step - loss: 0.0798 - acc: 0.9742\n",
      "Epoch 76/100\n",
      "20482/20482 [==============================] - 1s 49us/step - loss: 0.0604 - acc: 0.9793\n",
      "Epoch 77/100\n",
      "20482/20482 [==============================] - 1s 47us/step - loss: 0.0541 - acc: 0.9817\n",
      "Epoch 78/100\n",
      "20482/20482 [==============================] - 1s 47us/step - loss: 0.0700 - acc: 0.9744\n",
      "Epoch 79/100\n",
      "20482/20482 [==============================] - 1s 48us/step - loss: 0.0738 - acc: 0.9746\n",
      "Epoch 80/100\n",
      "20482/20482 [==============================] - 1s 49us/step - loss: 0.0491 - acc: 0.9842\n",
      "Epoch 81/100\n"
     ]
    },
    {
     "name": "stdout",
     "output_type": "stream",
     "text": [
      "20482/20482 [==============================] - 1s 47us/step - loss: 0.0606 - acc: 0.9798\n",
      "Epoch 82/100\n",
      "20482/20482 [==============================] - 1s 45us/step - loss: 0.0854 - acc: 0.9715\n",
      "Epoch 83/100\n",
      "20482/20482 [==============================] - 1s 45us/step - loss: 0.0500 - acc: 0.9839\n",
      "Epoch 84/100\n",
      "20482/20482 [==============================] - 1s 46us/step - loss: 0.0484 - acc: 0.9850\n",
      "Epoch 85/100\n",
      "20482/20482 [==============================] - 1s 47us/step - loss: 0.0387 - acc: 0.9884\n",
      "Epoch 86/100\n",
      "20482/20482 [==============================] - 1s 45us/step - loss: 0.0649 - acc: 0.9776\n",
      "Epoch 87/100\n",
      "20482/20482 [==============================] - 1s 46us/step - loss: 0.0633 - acc: 0.9767\n",
      "Epoch 88/100\n",
      "20482/20482 [==============================] - 1s 47us/step - loss: 0.0506 - acc: 0.9829\n",
      "Epoch 89/100\n",
      "20482/20482 [==============================] - 1s 49us/step - loss: 0.0521 - acc: 0.9828\n",
      "Epoch 90/100\n",
      "20482/20482 [==============================] - 1s 47us/step - loss: 0.0407 - acc: 0.9876\n",
      "Epoch 91/100\n",
      "20482/20482 [==============================] - 1s 45us/step - loss: 0.0632 - acc: 0.9771\n",
      "Epoch 92/100\n",
      "20482/20482 [==============================] - 1s 44us/step - loss: 0.0488 - acc: 0.9856\n",
      "Epoch 93/100\n",
      "20482/20482 [==============================] - 1s 44us/step - loss: 0.0601 - acc: 0.9800\n",
      "Epoch 94/100\n",
      "20482/20482 [==============================] - 1s 46us/step - loss: 0.0354 - acc: 0.9884\n",
      "Epoch 95/100\n",
      "20482/20482 [==============================] - 1s 44us/step - loss: 0.0383 - acc: 0.9882\n",
      "Epoch 96/100\n",
      "20482/20482 [==============================] - 1s 43us/step - loss: 0.0710 - acc: 0.9764\n",
      "Epoch 97/100\n",
      "20482/20482 [==============================] - 1s 43us/step - loss: 0.0453 - acc: 0.9842\n",
      "Epoch 98/100\n",
      "20482/20482 [==============================] - 1s 44us/step - loss: 0.0506 - acc: 0.9825\n",
      "Epoch 99/100\n",
      "20482/20482 [==============================] - 1s 43us/step - loss: 0.0292 - acc: 0.9906\n",
      "Epoch 100/100\n",
      "20482/20482 [==============================] - 1s 43us/step - loss: 0.0227 - acc: 0.9939\n"
     ]
    },
    {
     "data": {
      "text/plain": [
       "<keras.callbacks.History at 0x1cb89a53358>"
      ]
     },
     "execution_count": 152,
     "metadata": {},
     "output_type": "execute_result"
    }
   ],
   "source": [
    "model = baseline_model()\n",
    "model.fit(X, dummy_y, epochs=100, batch_size=32) #Attention aux paramètres, certains changement provoquent l'overfitting !"
   ]
  },
  {
   "cell_type": "code",
   "execution_count": 162,
   "metadata": {},
   "outputs": [
    {
     "name": "stdout",
     "output_type": "stream",
     "text": [
      "20482/20482 [==============================] - 0s 19us/step\n",
      "\n",
      "loss: 4.04%\n",
      "\n",
      "acc: 98.73%\n"
     ]
    }
   ],
   "source": [
    "# evaluate the model\n",
    "scores = model.evaluate(X, dummy_y)\n",
    "print(\"\\n%s: %.2f%%\" % (model.metrics_names[0], scores[0]*100))\n",
    "print(\"\\n%s: %.2f%%\" % (model.metrics_names[1], scores[1]*100))\n"
   ]
  },
  {
   "cell_type": "code",
   "execution_count": 154,
   "metadata": {},
   "outputs": [],
   "source": [
    "def counter(attr) :\n",
    "    unique, counts = numpy.unique(attr, return_counts=True)\n",
    "    return dict(zip(unique, counts))"
   ]
  },
  {
   "cell_type": "code",
   "execution_count": 155,
   "metadata": {},
   "outputs": [
    {
     "name": "stdout",
     "output_type": "stream",
     "text": [
      "['A2' 'B2' 'A1' ... 'A1' 'A1' 'B2']\n"
     ]
    },
    {
     "name": "stderr",
     "output_type": "stream",
     "text": [
      "C:\\Users\\Noctis\\Anaconda3\\lib\\site-packages\\sklearn\\preprocessing\\label.py:151: DeprecationWarning: The truth value of an empty array is ambiguous. Returning False, but in future this will result in an error. Use `array.size > 0` to check that an array is not empty.\n",
      "  if diff:\n"
     ]
    }
   ],
   "source": [
    "#predictions = model.predict(X)\n",
    "predictions = model.predict_classes(X_test)\n",
    "classes = encoder.inverse_transform(predictions)\n",
    "\n",
    "print(classes)\n",
    "# round predictions\n",
    "#for x in predictions :\n",
    "#    print(x)\n",
    "#print(dummy_y)"
   ]
  },
  {
   "cell_type": "code",
   "execution_count": 156,
   "metadata": {},
   "outputs": [
    {
     "name": "stdout",
     "output_type": "stream",
     "text": [
      "<class 'numpy.ndarray'>\n"
     ]
    },
    {
     "data": {
      "image/png": "[encoded data removed]",
      "text/plain": [
       "<Figure size 432x288 with 1 Axes>"
      ]
     },
     "metadata": {},
     "output_type": "display_data"
    },
    {
     "data": {
      "text/plain": [
       "{'A1': 2852, 'A2': 1922, 'B1': 1370, 'B2': 567, 'C1': 113, 'C2': 4}"
      ]
     },
     "execution_count": 156,
     "metadata": {},
     "output_type": "execute_result"
    }
   ],
   "source": [
    "import seaborn as sns\n",
    "import matplotlib.pyplot as plt\n",
    "\n",
    "print(type(classes))\n",
    "#rclasses = classes[::-1]\n",
    "\n",
    "sns.countplot(classes,label=\"Count\")\n",
    "plt.show()\n",
    "\n",
    "\n",
    "counter(classes)\n"
   ]
  },
  {
   "cell_type": "code",
   "execution_count": 157,
   "metadata": {},
   "outputs": [
    {
     "data": {
      "image/png": "[encoded data removed]",
      "text/plain": [
       "<Figure size 432x288 with 1 Axes>"
      ]
     },
     "metadata": {},
     "output_type": "display_data"
    },
    {
     "data": {
      "text/plain": [
       "{'A1': 2865, 'A2': 1906, 'B1': 1336, 'B2': 587, 'C1': 120, 'C2': 14}"
      ]
     },
     "execution_count": 157,
     "metadata": {},
     "output_type": "execute_result"
    }
   ],
   "source": [
    "sns.countplot(y_test,label=\"Count\")\n",
    "plt.show()\n",
    "\n",
    "  \n",
    "counter(y_test)"
   ]
  },
  {
   "cell_type": "code",
   "execution_count": null,
   "metadata": {},
   "outputs": [],
   "source": []
  }
 ],
 "metadata": {
  "kernelspec": {
   "display_name": "Python 3",
   "language": "python",
   "name": "python3"
  },
  "language_info": {
   "codemirror_mode": {
    "name": "ipython",
    "version": 3
   },
   "file_extension": ".py",
   "mimetype": "text/x-python",
   "name": "python",
   "nbconvert_exporter": "python",
   "pygments_lexer": "ipython3",
   "version": "3.6.5"
  }
 },
 "nbformat": 4,
 "nbformat_minor": 2
}
